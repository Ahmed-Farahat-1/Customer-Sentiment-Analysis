{
 "cells": [
  {
   "cell_type": "code",
   "execution_count": 1,
   "id": "f35955ee-cade-4018-b2d8-41c12886febe",
   "metadata": {},
   "outputs": [],
   "source": [
    "# Add environment Packages paths to conda\n",
    "import os, sys, warnings\n",
    "import pandas as pd\n",
    "import numpy as np\n",
    "warnings.simplefilter(\"ignore\")\n",
    "\n",
    "# Text preprocessing packages\n",
    "import nltk # Text libarary\n",
    "# nltk.download('stopwords')\n",
    "import string # Removing special characters {#, @, ...}\n",
    "import re # Regex Package\n",
    "import regex\n",
    "import emoji\n",
    "# Corpora is a group presenting multiple collections of text documents. A single collection is called corpus.\n",
    "from nltk.corpus import stopwords # Stopwords\n",
    "import arabicstopwords.arabicstopwords as stp #more range of arabic stop words\n",
    "from nltk.stem.isri import ISRIStemmer\n",
    "from nltk.tokenize import word_tokenize\n",
    "\n",
    "import pyarabic.araby as araby\n",
    "from tashaphyne.stemming import ArabicLightStemmer\n",
    "\n",
    "from nltk.stem import SnowballStemmer, WordNetLemmatizer # Stemmer & Lemmatizer\n",
    "#from gensim.utils import simple_preprocess  # Text ==> List of Tokens\n",
    "\n",
    "# Text Embedding\n",
    "from sklearn.feature_extraction.text import TfidfVectorizer\n",
    "from sklearn.feature_extraction.text import CountVectorizer\n",
    "from sklearn.metrics import confusion_matrix\n",
    "from camel_tools.tokenizers.word import simple_word_tokenize\n",
    "from keras.preprocessing.text import Tokenizer\n",
    "from tensorflow.keras.preprocessing.sequence import pad_sequences\n",
    "import numpy as np\n",
    "from sklearn.model_selection import train_test_split\n",
    "\n",
    "# Modelling\n",
    "from sklearn.model_selection import train_test_split,KFold, GridSearchCV\n",
    "from sklearn.preprocessing import LabelEncoder\n",
    "from sklearn.metrics import accuracy_score,confusion_matrix, classification_report\n",
    "from sklearn.pipeline import Pipeline\n",
    "from sklearn.metrics import f1_score\n",
    "from sklearn.svm import SVC\n",
    "import tensorflow as tf\n",
    "from tensorflow.keras.preprocessing.text import Tokenizer\n",
    "from tensorflow.keras.preprocessing.sequence import pad_sequences\n",
    "from tensorflow.keras.utils import to_categorical\n",
    "from tensorflow.keras import regularizers\n",
    "from tensorflow.keras.callbacks import EarlyStopping\n",
    "\n",
    "\n",
    "# Saving Model\n",
    "import pickle\n",
    "\n",
    "# Visualization Packages\n",
    "import seaborn as sns\n",
    "import matplotlib.pyplot as plt\n",
    "sns.set(font_scale=1.3)\n",
    "%matplotlib inline"
   ]
  },
  {
   "cell_type": "code",
   "execution_count": 2,
   "id": "7b3d95d1-8a9a-4585-9dc2-6676f6171e4f",
   "metadata": {},
   "outputs": [],
   "source": [
    "train_p=pd.read_csv('train_Arabic_tweets_positive_20190413.tsv',sep='\\t')\n",
    "train_n=pd.read_csv('train_Arabic_tweets_negative_20190413.tsv',sep='\\t')\n",
    "\n",
    "test_p=pd.read_csv('test_Arabic_tweets_positive_20190413.tsv',sep='\\t')\n",
    "test_n=pd.read_csv('test_Arabic_tweets_negative_20190413.tsv',sep='\\t')"
   ]
  },
  {
   "cell_type": "code",
   "execution_count": 3,
   "id": "d5ce70e4-e622-4f9a-95a8-58976f89b9c9",
   "metadata": {},
   "outputs": [
    {
     "name": "stdout",
     "output_type": "stream",
     "text": [
      " train_n columns are Index(['neg', 'اعترف ان بتس كانو شوي شوي يجيبو راسي لكن اليوم بالزايد 😭'], dtype='object')\n",
      " train_p columns are Index(['pos', 'نحن الذين يتحول كل ما نود أن نقوله إلى دعاء لله، لا تبحثوا فينا عن قوة، إننا مكسورون، القوة التي…'], dtype='object')\n",
      " test_p columns are Index(['pos', '#الهلال_الاهلي فوز هلالي مهم الحمد لله 💙 زوران كان بيسلم المباراة بعد تبديل كارييو بإنتظار الإتحاد بكرة يارب يار…'], dtype='object')\n",
      " test_n columns are Index(['neg', 'حتى الايتونز خربتوه مو صاحين انتو؟؟ 😭'], dtype='object')\n"
     ]
    }
   ],
   "source": [
    "print(f\" train_n columns are {train_n.columns}\")\n",
    "print(f\" train_p columns are {train_p.columns}\")\n",
    "print(f\" test_p columns are {test_p.columns}\")\n",
    "print(f\" test_n columns are {test_n.columns}\")"
   ]
  },
  {
   "cell_type": "code",
   "execution_count": 4,
   "id": "70e9fad5-1de0-43b7-9675-9458f2c2584a",
   "metadata": {},
   "outputs": [],
   "source": [
    "train_p.rename(columns={'pos':'label' ,  'نحن الذين يتحول كل ما نود أن نقوله إلى دعاء لله، لا تبحثوا فينا عن قوة، إننا مكسورون، القوة التي…':'text'} , inplace=True)\n",
    "train_n.rename(columns={'neg':'label' , 'اعترف ان بتس كانو شوي شوي يجيبو راسي لكن اليوم بالزايد 😭':'text' } , inplace=True)\n",
    "\n",
    "test_p.rename(columns={'pos':'label' , '#الهلال_الاهلي فوز هلالي مهم الحمد لله 💙 زوران كان بيسلم المباراة بعد تبديل كارييو بإنتظار الإتحاد بكرة يارب يار…':'text'} , inplace=True)\n",
    "test_n.rename(columns={'neg':'label' , 'حتى الايتونز خربتوه مو صاحين انتو؟؟ 😭':'text'} , inplace=True)"
   ]
  },
  {
   "cell_type": "code",
   "execution_count": 5,
   "id": "60e99787-4e25-43cc-b66f-129a5fbad361",
   "metadata": {},
   "outputs": [
    {
     "name": "stdout",
     "output_type": "stream",
     "text": [
      " train_n columns are Index(['label', 'text'], dtype='object')\n",
      " train_p columns are Index(['label', 'text'], dtype='object')\n",
      " test_p columns are Index(['label', 'text'], dtype='object')\n",
      " test_n columns are Index(['label', 'text'], dtype='object')\n"
     ]
    }
   ],
   "source": [
    "print(f\" train_n columns are {train_n.columns}\")\n",
    "print(f\" train_p columns are {train_p.columns}\")\n",
    "print(f\" test_p columns are {test_p.columns}\")\n",
    "print(f\" test_n columns are {test_n.columns}\")"
   ]
  },
  {
   "cell_type": "code",
   "execution_count": 6,
   "id": "905f2cb4-7a76-4251-aabf-39006cfc4ad9",
   "metadata": {},
   "outputs": [],
   "source": [
    "data = [train_p , train_n ,test_p , test_n]\n",
    "for df in data:\n",
    "    for cols in list(df.columns):\n",
    "        if cols == 'pos' or cols == 'neg':\n",
    "            print(f'{df} not builded well')\n",
    "     "
   ]
  },
  {
   "cell_type": "code",
   "execution_count": 7,
   "id": "bb65cda9-9efa-4861-87f9-6f47dbd13289",
   "metadata": {},
   "outputs": [],
   "source": [
    "train_df = pd.concat([train_p , train_n])\n",
    "train_df = train_df.sample(frac=1).reset_index(drop=True)\n",
    "\n",
    "\n",
    "test_df = pd.concat([test_p , test_n])\n",
    "test_df = test_df.sample(frac=1).reset_index(drop=True)"
   ]
  },
  {
   "cell_type": "code",
   "execution_count": 8,
   "id": "b6cd39ef-0999-46fc-accf-166a7478017a",
   "metadata": {},
   "outputs": [
    {
     "data": {
      "text/html": [
       "<div>\n",
       "<style scoped>\n",
       "    .dataframe tbody tr th:only-of-type {\n",
       "        vertical-align: middle;\n",
       "    }\n",
       "\n",
       "    .dataframe tbody tr th {\n",
       "        vertical-align: top;\n",
       "    }\n",
       "\n",
       "    .dataframe thead th {\n",
       "        text-align: right;\n",
       "    }\n",
       "</style>\n",
       "<table border=\"1\" class=\"dataframe\">\n",
       "  <thead>\n",
       "    <tr style=\"text-align: right;\">\n",
       "      <th></th>\n",
       "      <th>label</th>\n",
       "      <th>text</th>\n",
       "    </tr>\n",
       "  </thead>\n",
       "  <tbody>\n",
       "    <tr>\n",
       "      <th>0</th>\n",
       "      <td>pos</td>\n",
       "      <td>بمناسبة فوز الهلال .. 💙 سحب على آيفون XR📱 رتوي...</td>\n",
       "    </tr>\n",
       "    <tr>\n",
       "      <th>1</th>\n",
       "      <td>pos</td>\n",
       "      <td>#الاتحاد_النصر لاتحسبونا نسينا يالطواقي ولانبي...</td>\n",
       "    </tr>\n",
       "    <tr>\n",
       "      <th>2</th>\n",
       "      <td>neg</td>\n",
       "      <td>المفروض يكون ف حساب واحد ع كل موبايل يا تويتر ...</td>\n",
       "    </tr>\n",
       "    <tr>\n",
       "      <th>3</th>\n",
       "      <td>neg</td>\n",
       "      <td>فولو👇 والباك حالا 🔙 ⁦⁩ ⁦⁩ ⁦⁩ ⁦⁩⁦ ⁦⁩⁦…</td>\n",
       "    </tr>\n",
       "    <tr>\n",
       "      <th>4</th>\n",
       "      <td>neg</td>\n",
       "      <td>بجي اعوضكم معليش مكروفة بعرب ارمي هه</td>\n",
       "    </tr>\n",
       "    <tr>\n",
       "      <th>...</th>\n",
       "      <td>...</td>\n",
       "      <td>...</td>\n",
       "    </tr>\n",
       "    <tr>\n",
       "      <th>45268</th>\n",
       "      <td>neg</td>\n",
       "      <td>لا يارافا لا تكفى تكفى 😭</td>\n",
       "    </tr>\n",
       "    <tr>\n",
       "      <th>45269</th>\n",
       "      <td>neg</td>\n",
       "      <td>وضعي حاليا 😤 #الاتحاد_النصر</td>\n",
       "    </tr>\n",
       "    <tr>\n",
       "      <th>45270</th>\n",
       "      <td>neg</td>\n",
       "      <td>لا محبتهم 💖 تبنيلي قصر ⛪ و لا كرهم 💔يحفرلي قبر...</td>\n",
       "    </tr>\n",
       "    <tr>\n",
       "      <th>45271</th>\n",
       "      <td>neg</td>\n",
       "      <td>المفروض يكون الثالث بس ايش نسوي 💔 #BeautifulGo...</td>\n",
       "    </tr>\n",
       "    <tr>\n",
       "      <th>45272</th>\n",
       "      <td>neg</td>\n",
       "      <td>شيطان رحيم 🤔</td>\n",
       "    </tr>\n",
       "  </tbody>\n",
       "</table>\n",
       "<p>45273 rows × 2 columns</p>\n",
       "</div>"
      ],
      "text/plain": [
       "      label                                               text\n",
       "0       pos  بمناسبة فوز الهلال .. 💙 سحب على آيفون XR📱 رتوي...\n",
       "1       pos  #الاتحاد_النصر لاتحسبونا نسينا يالطواقي ولانبي...\n",
       "2       neg  المفروض يكون ف حساب واحد ع كل موبايل يا تويتر ...\n",
       "3       neg              فولو👇 والباك حالا 🔙 ⁦⁩ ⁦⁩ ⁦⁩ ⁦⁩⁦ ⁦⁩⁦…\n",
       "4       neg               بجي اعوضكم معليش مكروفة بعرب ارمي هه\n",
       "...     ...                                                ...\n",
       "45268   neg                           لا يارافا لا تكفى تكفى 😭\n",
       "45269   neg                        وضعي حاليا 😤 #الاتحاد_النصر\n",
       "45270   neg  لا محبتهم 💖 تبنيلي قصر ⛪ و لا كرهم 💔يحفرلي قبر...\n",
       "45271   neg  المفروض يكون الثالث بس ايش نسوي 💔 #BeautifulGo...\n",
       "45272   neg                                       شيطان رحيم 🤔\n",
       "\n",
       "[45273 rows x 2 columns]"
      ]
     },
     "execution_count": 8,
     "metadata": {},
     "output_type": "execute_result"
    }
   ],
   "source": [
    "train_df"
   ]
  },
  {
   "cell_type": "code",
   "execution_count": 9,
   "id": "fbaa3c14-4c00-4969-bce6-a0c911cd18eb",
   "metadata": {},
   "outputs": [
    {
     "data": {
      "text/html": [
       "<div>\n",
       "<style scoped>\n",
       "    .dataframe tbody tr th:only-of-type {\n",
       "        vertical-align: middle;\n",
       "    }\n",
       "\n",
       "    .dataframe tbody tr th {\n",
       "        vertical-align: top;\n",
       "    }\n",
       "\n",
       "    .dataframe thead th {\n",
       "        text-align: right;\n",
       "    }\n",
       "</style>\n",
       "<table border=\"1\" class=\"dataframe\">\n",
       "  <thead>\n",
       "    <tr style=\"text-align: right;\">\n",
       "      <th></th>\n",
       "      <th>label</th>\n",
       "      <th>text</th>\n",
       "    </tr>\n",
       "  </thead>\n",
       "  <tbody>\n",
       "    <tr>\n",
       "      <th>0</th>\n",
       "      <td>pos</td>\n",
       "      <td>مايدري وش يسوي بفلوسه 😂</td>\n",
       "    </tr>\n",
       "    <tr>\n",
       "      <th>1</th>\n",
       "      <td>neg</td>\n",
       "      <td>ترى حظي نفس بوكريشه اللي بغى يصور سيلفي معاها ...</td>\n",
       "    </tr>\n",
       "    <tr>\n",
       "      <th>2</th>\n",
       "      <td>neg</td>\n",
       "      <td>يا اخوانا و الله لسة مطالبنا ما أتحقق منها غير...</td>\n",
       "    </tr>\n",
       "    <tr>\n",
       "      <th>3</th>\n",
       "      <td>neg</td>\n",
       "      <td>حسافه على جودة التعليم 😭</td>\n",
       "    </tr>\n",
       "    <tr>\n",
       "      <th>4</th>\n",
       "      <td>neg</td>\n",
       "      <td>يارب انا تايه دلني 💔 دعواتكم ليا فضلا وليس امر...</td>\n",
       "    </tr>\n",
       "    <tr>\n",
       "      <th>...</th>\n",
       "      <td>...</td>\n",
       "      <td>...</td>\n",
       "    </tr>\n",
       "    <tr>\n",
       "      <th>11513</th>\n",
       "      <td>pos</td>\n",
       "      <td>لست بالقوة التي تتخيلها، إنما انا لا أبالي بمع...</td>\n",
       "    </tr>\n",
       "    <tr>\n",
       "      <th>11514</th>\n",
       "      <td>neg</td>\n",
       "      <td>صباح الخير ✋</td>\n",
       "    </tr>\n",
       "    <tr>\n",
       "      <th>11515</th>\n",
       "      <td>neg</td>\n",
       "      <td>النطع دا اللي اتقفل حسابه من شويه دخل بحساب تا...</td>\n",
       "    </tr>\n",
       "    <tr>\n",
       "      <th>11516</th>\n",
       "      <td>neg</td>\n",
       "      <td>الاغانى دى بحبها جدا بحب المود بتاعها اووى 💔 ج...</td>\n",
       "    </tr>\n",
       "    <tr>\n",
       "      <th>11517</th>\n",
       "      <td>neg</td>\n",
       "      <td>يارب لم يبقى لدي القوه 😢 . فبعزتك وجلالك أوكلت...</td>\n",
       "    </tr>\n",
       "  </tbody>\n",
       "</table>\n",
       "<p>11518 rows × 2 columns</p>\n",
       "</div>"
      ],
      "text/plain": [
       "      label                                               text\n",
       "0       pos                            مايدري وش يسوي بفلوسه 😂\n",
       "1       neg  ترى حظي نفس بوكريشه اللي بغى يصور سيلفي معاها ...\n",
       "2       neg  يا اخوانا و الله لسة مطالبنا ما أتحقق منها غير...\n",
       "3       neg                           حسافه على جودة التعليم 😭\n",
       "4       neg  يارب انا تايه دلني 💔 دعواتكم ليا فضلا وليس امر...\n",
       "...     ...                                                ...\n",
       "11513   pos  لست بالقوة التي تتخيلها، إنما انا لا أبالي بمع...\n",
       "11514   neg                                       صباح الخير ✋\n",
       "11515   neg  النطع دا اللي اتقفل حسابه من شويه دخل بحساب تا...\n",
       "11516   neg  الاغانى دى بحبها جدا بحب المود بتاعها اووى 💔 ج...\n",
       "11517   neg  يارب لم يبقى لدي القوه 😢 . فبعزتك وجلالك أوكلت...\n",
       "\n",
       "[11518 rows x 2 columns]"
      ]
     },
     "execution_count": 9,
     "metadata": {},
     "output_type": "execute_result"
    }
   ],
   "source": [
    "test_df"
   ]
  },
  {
   "cell_type": "code",
   "execution_count": 10,
   "id": "27f8be85-1a31-4f1e-9948-78aa57a27a76",
   "metadata": {},
   "outputs": [
    {
     "data": {
      "text/plain": [
       "label    0\n",
       "text     0\n",
       "dtype: int64"
      ]
     },
     "execution_count": 10,
     "metadata": {},
     "output_type": "execute_result"
    }
   ],
   "source": [
    "train_df.isnull().sum()"
   ]
  },
  {
   "cell_type": "code",
   "execution_count": 11,
   "id": "00957cdd-5de2-4f80-9580-1bbdafa424ae",
   "metadata": {},
   "outputs": [
    {
     "data": {
      "text/plain": [
       "label    0\n",
       "text     0\n",
       "dtype: int64"
      ]
     },
     "execution_count": 11,
     "metadata": {},
     "output_type": "execute_result"
    }
   ],
   "source": [
    "test_df.isnull().sum()"
   ]
  },
  {
   "cell_type": "code",
   "execution_count": 12,
   "id": "53e31b88-0ba5-4ac1-a448-bf0f530b4376",
   "metadata": {},
   "outputs": [
    {
     "data": {
      "text/plain": [
       "15721"
      ]
     },
     "execution_count": 12,
     "metadata": {},
     "output_type": "execute_result"
    }
   ],
   "source": [
    "train_df.duplicated().sum()"
   ]
  },
  {
   "cell_type": "code",
   "execution_count": 13,
   "id": "720f4ce2-00cc-46ee-9716-dbbe6d94ab53",
   "metadata": {},
   "outputs": [
    {
     "data": {
      "text/plain": [
       "0"
      ]
     },
     "execution_count": 13,
     "metadata": {},
     "output_type": "execute_result"
    }
   ],
   "source": [
    "train_df.drop_duplicates(inplace=True)\n",
    "train_df.duplicated().sum()"
   ]
  },
  {
   "cell_type": "code",
   "execution_count": 14,
   "id": "6971edab-d789-4d9a-8670-69f66c1b8e41",
   "metadata": {},
   "outputs": [
    {
     "data": {
      "text/plain": [
       "2678"
      ]
     },
     "execution_count": 14,
     "metadata": {},
     "output_type": "execute_result"
    }
   ],
   "source": [
    "test_df.duplicated().sum()"
   ]
  },
  {
   "cell_type": "code",
   "execution_count": 15,
   "id": "2147ad8e-eb52-429f-9f97-de38c8e57bc6",
   "metadata": {},
   "outputs": [
    {
     "data": {
      "text/plain": [
       "0"
      ]
     },
     "execution_count": 15,
     "metadata": {},
     "output_type": "execute_result"
    }
   ],
   "source": [
    "test_df.drop_duplicates(inplace=True)\n",
    "test_df.duplicated().sum()"
   ]
  },
  {
   "cell_type": "code",
   "execution_count": 16,
   "id": "5e68c088-2f5b-4819-9a7c-4c48f1707e5b",
   "metadata": {},
   "outputs": [
    {
     "data": {
      "text/html": [
       "<div>\n",
       "<style scoped>\n",
       "    .dataframe tbody tr th:only-of-type {\n",
       "        vertical-align: middle;\n",
       "    }\n",
       "\n",
       "    .dataframe tbody tr th {\n",
       "        vertical-align: top;\n",
       "    }\n",
       "\n",
       "    .dataframe thead th {\n",
       "        text-align: right;\n",
       "    }\n",
       "</style>\n",
       "<table border=\"1\" class=\"dataframe\">\n",
       "  <thead>\n",
       "    <tr style=\"text-align: right;\">\n",
       "      <th></th>\n",
       "      <th>label</th>\n",
       "      <th>text</th>\n",
       "    </tr>\n",
       "  </thead>\n",
       "  <tbody>\n",
       "    <tr>\n",
       "      <th>0</th>\n",
       "      <td>pos</td>\n",
       "      <td>بمناسبة فوز الهلال .. 💙 سحب على آيفون XR📱 رتوي...</td>\n",
       "    </tr>\n",
       "    <tr>\n",
       "      <th>1</th>\n",
       "      <td>pos</td>\n",
       "      <td>#الاتحاد_النصر لاتحسبونا نسينا يالطواقي ولانبي...</td>\n",
       "    </tr>\n",
       "    <tr>\n",
       "      <th>2</th>\n",
       "      <td>neg</td>\n",
       "      <td>المفروض يكون ف حساب واحد ع كل موبايل يا تويتر ...</td>\n",
       "    </tr>\n",
       "    <tr>\n",
       "      <th>3</th>\n",
       "      <td>neg</td>\n",
       "      <td>فولو👇 والباك حالا 🔙 ⁦⁩ ⁦⁩ ⁦⁩ ⁦⁩⁦ ⁦⁩⁦…</td>\n",
       "    </tr>\n",
       "    <tr>\n",
       "      <th>4</th>\n",
       "      <td>neg</td>\n",
       "      <td>بجي اعوضكم معليش مكروفة بعرب ارمي هه</td>\n",
       "    </tr>\n",
       "    <tr>\n",
       "      <th>...</th>\n",
       "      <td>...</td>\n",
       "      <td>...</td>\n",
       "    </tr>\n",
       "    <tr>\n",
       "      <th>11505</th>\n",
       "      <td>neg</td>\n",
       "      <td>البوماات اغاني 😭 قولو اسم شخص واحد يسوي مثلهمم😭😍</td>\n",
       "    </tr>\n",
       "    <tr>\n",
       "      <th>11506</th>\n",
       "      <td>neg</td>\n",
       "      <td>هذا الي حضن بوم شفته وكنت شاكه اذا هو او لا، م...</td>\n",
       "    </tr>\n",
       "    <tr>\n",
       "      <th>11507</th>\n",
       "      <td>pos</td>\n",
       "      <td>طفيت بس. تمسون في خير وهنا 💚</td>\n",
       "    </tr>\n",
       "    <tr>\n",
       "      <th>11511</th>\n",
       "      <td>neg</td>\n",
       "      <td>ترا مره بطفش لأني بقضيه لحالي 😞 فيه صحباتي بيج...</td>\n",
       "    </tr>\n",
       "    <tr>\n",
       "      <th>11513</th>\n",
       "      <td>pos</td>\n",
       "      <td>لست بالقوة التي تتخيلها، إنما انا لا أبالي بمع...</td>\n",
       "    </tr>\n",
       "  </tbody>\n",
       "</table>\n",
       "<p>38392 rows × 2 columns</p>\n",
       "</div>"
      ],
      "text/plain": [
       "      label                                               text\n",
       "0       pos  بمناسبة فوز الهلال .. 💙 سحب على آيفون XR📱 رتوي...\n",
       "1       pos  #الاتحاد_النصر لاتحسبونا نسينا يالطواقي ولانبي...\n",
       "2       neg  المفروض يكون ف حساب واحد ع كل موبايل يا تويتر ...\n",
       "3       neg              فولو👇 والباك حالا 🔙 ⁦⁩ ⁦⁩ ⁦⁩ ⁦⁩⁦ ⁦⁩⁦…\n",
       "4       neg               بجي اعوضكم معليش مكروفة بعرب ارمي هه\n",
       "...     ...                                                ...\n",
       "11505   neg   البوماات اغاني 😭 قولو اسم شخص واحد يسوي مثلهمم😭😍\n",
       "11506   neg  هذا الي حضن بوم شفته وكنت شاكه اذا هو او لا، م...\n",
       "11507   pos                       طفيت بس. تمسون في خير وهنا 💚\n",
       "11511   neg  ترا مره بطفش لأني بقضيه لحالي 😞 فيه صحباتي بيج...\n",
       "11513   pos  لست بالقوة التي تتخيلها، إنما انا لا أبالي بمع...\n",
       "\n",
       "[38392 rows x 2 columns]"
      ]
     },
     "execution_count": 16,
     "metadata": {},
     "output_type": "execute_result"
    }
   ],
   "source": [
    "data = pd.concat([train_df , test_df])\n",
    "\n",
    "data"
   ]
  },
  {
   "cell_type": "code",
   "execution_count": 17,
   "id": "b623db5a-8a96-4597-8a43-bc4abad7fa82",
   "metadata": {},
   "outputs": [
    {
     "data": {
      "text/plain": [
       "label    0\n",
       "text     0\n",
       "dtype: int64"
      ]
     },
     "execution_count": 17,
     "metadata": {},
     "output_type": "execute_result"
    }
   ],
   "source": [
    "data.isnull().sum()"
   ]
  },
  {
   "cell_type": "code",
   "execution_count": 18,
   "id": "1da5b133-6748-4d1e-a9b8-849e813e554a",
   "metadata": {},
   "outputs": [],
   "source": [
    "data.to_csv('new_data.csv' , index=False)"
   ]
  },
  {
   "cell_type": "code",
   "execution_count": 19,
   "id": "b9c97a0f-ca6d-4689-90f2-af740f78f8cc",
   "metadata": {},
   "outputs": [],
   "source": [
    "data = data.reset_index(drop=True)"
   ]
  },
  {
   "cell_type": "code",
   "execution_count": 20,
   "id": "711568c0-12ce-4a3f-9f0e-611e7884c45b",
   "metadata": {},
   "outputs": [
    {
     "data": {
      "text/plain": [
       "2518"
      ]
     },
     "execution_count": 20,
     "metadata": {},
     "output_type": "execute_result"
    }
   ],
   "source": [
    "data.duplicated().sum()"
   ]
  },
  {
   "cell_type": "code",
   "execution_count": 21,
   "id": "a7eaa59b-bfeb-413e-8a0f-a3c554472b83",
   "metadata": {},
   "outputs": [
    {
     "data": {
      "text/plain": [
       "0"
      ]
     },
     "execution_count": 21,
     "metadata": {},
     "output_type": "execute_result"
    }
   ],
   "source": [
    "data.drop_duplicates(inplace=True)\n",
    "data.duplicated().sum()"
   ]
  },
  {
   "cell_type": "code",
   "execution_count": 22,
   "id": "7cfd6a92-96d6-437a-9afb-18d8d28b8a0a",
   "metadata": {},
   "outputs": [],
   "source": [
    "data.reset_index(drop=True, inplace = True)"
   ]
  },
  {
   "cell_type": "code",
   "execution_count": 23,
   "id": "fba0d967-fe76-4555-9432-ccd338147c3b",
   "metadata": {},
   "outputs": [
    {
     "name": "stdout",
     "output_type": "stream",
     "text": [
      "<class 'pandas.core.frame.DataFrame'>\n",
      "RangeIndex: 35874 entries, 0 to 35873\n",
      "Data columns (total 2 columns):\n",
      " #   Column  Non-Null Count  Dtype \n",
      "---  ------  --------------  ----- \n",
      " 0   label   35874 non-null  object\n",
      " 1   text    35874 non-null  object\n",
      "dtypes: object(2)\n",
      "memory usage: 560.7+ KB\n"
     ]
    }
   ],
   "source": [
    "data.info()"
   ]
  },
  {
   "cell_type": "code",
   "execution_count": 24,
   "id": "4387f87d-7553-4c60-965a-3755d0d54b2b",
   "metadata": {},
   "outputs": [
    {
     "data": {
      "text/plain": [
       "label\n",
       "neg    18409\n",
       "pos    17465\n",
       "Name: count, dtype: int64"
      ]
     },
     "execution_count": 24,
     "metadata": {},
     "output_type": "execute_result"
    }
   ],
   "source": [
    "data.label.value_counts()"
   ]
  },
  {
   "cell_type": "code",
   "execution_count": 25,
   "id": "3b098249-b37d-46dd-9310-9ef42c3ab115",
   "metadata": {},
   "outputs": [
    {
     "data": {
      "image/png": "[encoded data removed]",
      "text/plain": [
       "<Figure size 800x400 with 1 Axes>"
      ]
     },
     "metadata": {},
     "output_type": "display_data"
    }
   ],
   "source": [
    "plt.figure(figsize=(8,4))\n",
    "sns.countplot(x='label', data=data);"
   ]
  },
  {
   "cell_type": "code",
   "execution_count": 26,
   "id": "06355d13-c08c-4ba3-a025-378767a5672b",
   "metadata": {},
   "outputs": [
    {
     "data": {
      "text/plain": [
       "754"
      ]
     },
     "execution_count": 26,
     "metadata": {},
     "output_type": "execute_result"
    }
   ],
   "source": [
    "arabic_stopwords = stopwords.words(\"arabic\")\n",
    "len(arabic_stopwords)"
   ]
  },
  {
   "cell_type": "code",
   "execution_count": 27,
   "id": "9c6eb2f4-53f3-4cc0-b012-057e09bf1b46",
   "metadata": {},
   "outputs": [
    {
     "data": {
      "text/plain": [
       "stop_words\n",
       "0     10489\n",
       "1     10004\n",
       "2      6524\n",
       "3      3970\n",
       "4      2384\n",
       "5      1266\n",
       "6       679\n",
       "7       303\n",
       "8       111\n",
       "9        50\n",
       "10       22\n",
       "11        9\n",
       "29        4\n",
       "35        3\n",
       "12        3\n",
       "13        3\n",
       "23        3\n",
       "18        3\n",
       "56        3\n",
       "37        3\n",
       "44        2\n",
       "48        2\n",
       "19        2\n",
       "52        2\n",
       "24        2\n",
       "58        2\n",
       "38        2\n",
       "25        2\n",
       "15        1\n",
       "42        1\n",
       "22        1\n",
       "76        1\n",
       "70        1\n",
       "45        1\n",
       "16        1\n",
       "21        1\n",
       "61        1\n",
       "64        1\n",
       "50        1\n",
       "72        1\n",
       "69        1\n",
       "20        1\n",
       "33        1\n",
       "17        1\n",
       "28        1\n",
       "57        1\n",
       "34        1\n",
       "36        1\n",
       "26        1\n",
       "60        1\n",
       "Name: count, dtype: int64"
      ]
     },
     "execution_count": 27,
     "metadata": {},
     "output_type": "execute_result"
    }
   ],
   "source": [
    "data['stop_words'] = data['text'].apply(lambda x: len(set(x.split()) & set(arabic_stopwords)))\n",
    "data.stop_words.value_counts()"
   ]
  },
  {
   "cell_type": "code",
   "execution_count": 28,
   "id": "829e4e69-6a21-4b85-8bea-275f5d09f544",
   "metadata": {},
   "outputs": [
    {
     "data": {
      "text/plain": [
       "<Axes: ylabel='Frequency'>"
      ]
     },
     "execution_count": 28,
     "metadata": {},
     "output_type": "execute_result"
    },
    {
     "data": {
      "image/png": "[encoded data removed]",
      "text/plain": [
       "<Figure size 640x480 with 1 Axes>"
      ]
     },
     "metadata": {},
     "output_type": "display_data"
    }
   ],
   "source": [
    "data['stop_words'].plot(kind= 'hist')"
   ]
  },
  {
   "cell_type": "code",
   "execution_count": 29,
   "id": "a4d34ef7-058c-4e52-9cd3-0115970bc28f",
   "metadata": {},
   "outputs": [
    {
     "data": {
      "text/plain": [
       "emoji_count\n",
       "1    24351\n",
       "0     5082\n",
       "2     2995\n",
       "3     1653\n",
       "4      742\n",
       "5      423\n",
       "6      199\n",
       "7      120\n",
       "8       70\n",
       "9       41\n",
       "Name: count, dtype: int64"
      ]
     },
     "execution_count": 29,
     "metadata": {},
     "output_type": "execute_result"
    }
   ],
   "source": [
    "def emoji_counter(sentence):\n",
    "    return emoji.emoji_count(sentence)\n",
    "\n",
    "data['emoji_count'] = data['text'].apply(lambda x: emoji_counter(x))\n",
    "data.emoji_count.value_counts()[:10]"
   ]
  },
  {
   "cell_type": "code",
   "execution_count": 30,
   "id": "a6687385-0a2c-460a-bacc-7b0209955db6",
   "metadata": {},
   "outputs": [
    {
     "data": {
      "text/html": [
       "<div>\n",
       "<style scoped>\n",
       "    .dataframe tbody tr th:only-of-type {\n",
       "        vertical-align: middle;\n",
       "    }\n",
       "\n",
       "    .dataframe tbody tr th {\n",
       "        vertical-align: top;\n",
       "    }\n",
       "\n",
       "    .dataframe thead th {\n",
       "        text-align: right;\n",
       "    }\n",
       "</style>\n",
       "<table border=\"1\" class=\"dataframe\">\n",
       "  <thead>\n",
       "    <tr style=\"text-align: right;\">\n",
       "      <th></th>\n",
       "      <th>label</th>\n",
       "      <th>text</th>\n",
       "      <th>stop_words</th>\n",
       "      <th>emoji_count</th>\n",
       "    </tr>\n",
       "  </thead>\n",
       "  <tbody>\n",
       "    <tr>\n",
       "      <th>0</th>\n",
       "      <td>pos</td>\n",
       "      <td>بمناسبة فوز الهلال .. 💙 سحب على آيفون XR📱 رتوي...</td>\n",
       "      <td>2</td>\n",
       "      <td>3</td>\n",
       "    </tr>\n",
       "    <tr>\n",
       "      <th>2</th>\n",
       "      <td>neg</td>\n",
       "      <td>المفروض يكون ف حساب واحد ع كل موبايل يا تويتر ...</td>\n",
       "      <td>5</td>\n",
       "      <td>1</td>\n",
       "    </tr>\n",
       "    <tr>\n",
       "      <th>3</th>\n",
       "      <td>neg</td>\n",
       "      <td>فولو👇 والباك حالا 🔙 ⁦⁩ ⁦⁩ ⁦⁩ ⁦⁩⁦ ⁦⁩⁦…</td>\n",
       "      <td>0</td>\n",
       "      <td>2</td>\n",
       "    </tr>\n",
       "    <tr>\n",
       "      <th>5</th>\n",
       "      <td>pos</td>\n",
       "      <td>ليه تدعي 😂</td>\n",
       "      <td>0</td>\n",
       "      <td>1</td>\n",
       "    </tr>\n",
       "    <tr>\n",
       "      <th>6</th>\n",
       "      <td>neg</td>\n",
       "      <td>إن لم تكونوا أوفياء ، فلا تعبثوا بقلوب الأنقياء 🥀</td>\n",
       "      <td>3</td>\n",
       "      <td>1</td>\n",
       "    </tr>\n",
       "    <tr>\n",
       "      <th>...</th>\n",
       "      <td>...</td>\n",
       "      <td>...</td>\n",
       "      <td>...</td>\n",
       "      <td>...</td>\n",
       "    </tr>\n",
       "    <tr>\n",
       "      <th>35869</th>\n",
       "      <td>neg</td>\n",
       "      <td>البوماات اغاني 😭 قولو اسم شخص واحد يسوي مثلهمم😭😍</td>\n",
       "      <td>1</td>\n",
       "      <td>3</td>\n",
       "    </tr>\n",
       "    <tr>\n",
       "      <th>35870</th>\n",
       "      <td>neg</td>\n",
       "      <td>هذا الي حضن بوم شفته وكنت شاكه اذا هو او لا، م...</td>\n",
       "      <td>4</td>\n",
       "      <td>1</td>\n",
       "    </tr>\n",
       "    <tr>\n",
       "      <th>35871</th>\n",
       "      <td>pos</td>\n",
       "      <td>طفيت بس. تمسون في خير وهنا 💚</td>\n",
       "      <td>1</td>\n",
       "      <td>1</td>\n",
       "    </tr>\n",
       "    <tr>\n",
       "      <th>35872</th>\n",
       "      <td>neg</td>\n",
       "      <td>ترا مره بطفش لأني بقضيه لحالي 😞 فيه صحباتي بيج...</td>\n",
       "      <td>3</td>\n",
       "      <td>1</td>\n",
       "    </tr>\n",
       "    <tr>\n",
       "      <th>35873</th>\n",
       "      <td>pos</td>\n",
       "      <td>لست بالقوة التي تتخيلها، إنما انا لا أبالي بمع...</td>\n",
       "      <td>5</td>\n",
       "      <td>1</td>\n",
       "    </tr>\n",
       "  </tbody>\n",
       "</table>\n",
       "<p>30792 rows × 4 columns</p>\n",
       "</div>"
      ],
      "text/plain": [
       "      label                                               text  stop_words  \\\n",
       "0       pos  بمناسبة فوز الهلال .. 💙 سحب على آيفون XR📱 رتوي...           2   \n",
       "2       neg  المفروض يكون ف حساب واحد ع كل موبايل يا تويتر ...           5   \n",
       "3       neg              فولو👇 والباك حالا 🔙 ⁦⁩ ⁦⁩ ⁦⁩ ⁦⁩⁦ ⁦⁩⁦…           0   \n",
       "5       pos                                         ليه تدعي 😂           0   \n",
       "6       neg  إن لم تكونوا أوفياء ، فلا تعبثوا بقلوب الأنقياء 🥀           3   \n",
       "...     ...                                                ...         ...   \n",
       "35869   neg   البوماات اغاني 😭 قولو اسم شخص واحد يسوي مثلهمم😭😍           1   \n",
       "35870   neg  هذا الي حضن بوم شفته وكنت شاكه اذا هو او لا، م...           4   \n",
       "35871   pos                       طفيت بس. تمسون في خير وهنا 💚           1   \n",
       "35872   neg  ترا مره بطفش لأني بقضيه لحالي 😞 فيه صحباتي بيج...           3   \n",
       "35873   pos  لست بالقوة التي تتخيلها، إنما انا لا أبالي بمع...           5   \n",
       "\n",
       "       emoji_count  \n",
       "0                3  \n",
       "2                1  \n",
       "3                2  \n",
       "5                1  \n",
       "6                1  \n",
       "...            ...  \n",
       "35869            3  \n",
       "35870            1  \n",
       "35871            1  \n",
       "35872            1  \n",
       "35873            1  \n",
       "\n",
       "[30792 rows x 4 columns]"
      ]
     },
     "execution_count": 30,
     "metadata": {},
     "output_type": "execute_result"
    }
   ],
   "source": [
    "emojis_data = data[data['emoji_count'] > 0]\n",
    "emojis_data"
   ]
  },
  {
   "cell_type": "code",
   "execution_count": 31,
   "id": "eaecd3a8-6d4b-4a91-af3a-2470d1a88ec1",
   "metadata": {},
   "outputs": [],
   "source": [
    "def extract_emoji(text):\n",
    "    import emoji\n",
    "    emoji_list = []\n",
    "    data = regex.findall(r'\\X', text)\n",
    "    for word in data:\n",
    "        if any(emoji.distinct_emoji_list(char) for char in word):\n",
    "            emoji_list.append(word)\n",
    "    \n",
    "    return emoji_list"
   ]
  },
  {
   "cell_type": "code",
   "execution_count": 32,
   "id": "0f95fa14-7b0a-4287-ac36-016406c465ce",
   "metadata": {},
   "outputs": [],
   "source": [
    "emojis_data['emoji'] = emojis_data['text'].apply(lambda x: extract_emoji(x))\n",
    "emojis_data['emoji'] = emojis_data['emoji'].apply(lambda x: ' '.join([word for word in x ]))"
   ]
  },
  {
   "cell_type": "code",
   "execution_count": 33,
   "id": "b1f767cf-b6e9-4c4a-b401-246b2309297a",
   "metadata": {},
   "outputs": [
    {
     "data": {
      "text/html": [
       "<div>\n",
       "<style scoped>\n",
       "    .dataframe tbody tr th:only-of-type {\n",
       "        vertical-align: middle;\n",
       "    }\n",
       "\n",
       "    .dataframe tbody tr th {\n",
       "        vertical-align: top;\n",
       "    }\n",
       "\n",
       "    .dataframe thead th {\n",
       "        text-align: right;\n",
       "    }\n",
       "</style>\n",
       "<table border=\"1\" class=\"dataframe\">\n",
       "  <thead>\n",
       "    <tr style=\"text-align: right;\">\n",
       "      <th></th>\n",
       "      <th>label</th>\n",
       "      <th>text</th>\n",
       "      <th>stop_words</th>\n",
       "      <th>emoji_count</th>\n",
       "      <th>emoji</th>\n",
       "    </tr>\n",
       "  </thead>\n",
       "  <tbody>\n",
       "    <tr>\n",
       "      <th>0</th>\n",
       "      <td>pos</td>\n",
       "      <td>بمناسبة فوز الهلال .. 💙 سحب على آيفون XR📱 رتوي...</td>\n",
       "      <td>2</td>\n",
       "      <td>3</td>\n",
       "      <td>💙 📱 💪</td>\n",
       "    </tr>\n",
       "    <tr>\n",
       "      <th>2</th>\n",
       "      <td>neg</td>\n",
       "      <td>المفروض يكون ف حساب واحد ع كل موبايل يا تويتر ...</td>\n",
       "      <td>5</td>\n",
       "      <td>1</td>\n",
       "      <td>😏</td>\n",
       "    </tr>\n",
       "    <tr>\n",
       "      <th>3</th>\n",
       "      <td>neg</td>\n",
       "      <td>فولو👇 والباك حالا 🔙 ⁦⁩ ⁦⁩ ⁦⁩ ⁦⁩⁦ ⁦⁩⁦…</td>\n",
       "      <td>0</td>\n",
       "      <td>2</td>\n",
       "      <td>👇 🔙</td>\n",
       "    </tr>\n",
       "    <tr>\n",
       "      <th>5</th>\n",
       "      <td>pos</td>\n",
       "      <td>ليه تدعي 😂</td>\n",
       "      <td>0</td>\n",
       "      <td>1</td>\n",
       "      <td>😂</td>\n",
       "    </tr>\n",
       "    <tr>\n",
       "      <th>6</th>\n",
       "      <td>neg</td>\n",
       "      <td>إن لم تكونوا أوفياء ، فلا تعبثوا بقلوب الأنقياء 🥀</td>\n",
       "      <td>3</td>\n",
       "      <td>1</td>\n",
       "      <td>🥀</td>\n",
       "    </tr>\n",
       "    <tr>\n",
       "      <th>...</th>\n",
       "      <td>...</td>\n",
       "      <td>...</td>\n",
       "      <td>...</td>\n",
       "      <td>...</td>\n",
       "      <td>...</td>\n",
       "    </tr>\n",
       "    <tr>\n",
       "      <th>35869</th>\n",
       "      <td>neg</td>\n",
       "      <td>البوماات اغاني 😭 قولو اسم شخص واحد يسوي مثلهمم😭😍</td>\n",
       "      <td>1</td>\n",
       "      <td>3</td>\n",
       "      <td>😭 😭 😍</td>\n",
       "    </tr>\n",
       "    <tr>\n",
       "      <th>35870</th>\n",
       "      <td>neg</td>\n",
       "      <td>هذا الي حضن بوم شفته وكنت شاكه اذا هو او لا، م...</td>\n",
       "      <td>4</td>\n",
       "      <td>1</td>\n",
       "      <td>😭</td>\n",
       "    </tr>\n",
       "    <tr>\n",
       "      <th>35871</th>\n",
       "      <td>pos</td>\n",
       "      <td>طفيت بس. تمسون في خير وهنا 💚</td>\n",
       "      <td>1</td>\n",
       "      <td>1</td>\n",
       "      <td>💚</td>\n",
       "    </tr>\n",
       "    <tr>\n",
       "      <th>35872</th>\n",
       "      <td>neg</td>\n",
       "      <td>ترا مره بطفش لأني بقضيه لحالي 😞 فيه صحباتي بيج...</td>\n",
       "      <td>3</td>\n",
       "      <td>1</td>\n",
       "      <td>😞</td>\n",
       "    </tr>\n",
       "    <tr>\n",
       "      <th>35873</th>\n",
       "      <td>pos</td>\n",
       "      <td>لست بالقوة التي تتخيلها، إنما انا لا أبالي بمع...</td>\n",
       "      <td>5</td>\n",
       "      <td>1</td>\n",
       "      <td>😌</td>\n",
       "    </tr>\n",
       "  </tbody>\n",
       "</table>\n",
       "<p>30792 rows × 5 columns</p>\n",
       "</div>"
      ],
      "text/plain": [
       "      label                                               text  stop_words  \\\n",
       "0       pos  بمناسبة فوز الهلال .. 💙 سحب على آيفون XR📱 رتوي...           2   \n",
       "2       neg  المفروض يكون ف حساب واحد ع كل موبايل يا تويتر ...           5   \n",
       "3       neg              فولو👇 والباك حالا 🔙 ⁦⁩ ⁦⁩ ⁦⁩ ⁦⁩⁦ ⁦⁩⁦…           0   \n",
       "5       pos                                         ليه تدعي 😂           0   \n",
       "6       neg  إن لم تكونوا أوفياء ، فلا تعبثوا بقلوب الأنقياء 🥀           3   \n",
       "...     ...                                                ...         ...   \n",
       "35869   neg   البوماات اغاني 😭 قولو اسم شخص واحد يسوي مثلهمم😭😍           1   \n",
       "35870   neg  هذا الي حضن بوم شفته وكنت شاكه اذا هو او لا، م...           4   \n",
       "35871   pos                       طفيت بس. تمسون في خير وهنا 💚           1   \n",
       "35872   neg  ترا مره بطفش لأني بقضيه لحالي 😞 فيه صحباتي بيج...           3   \n",
       "35873   pos  لست بالقوة التي تتخيلها، إنما انا لا أبالي بمع...           5   \n",
       "\n",
       "       emoji_count  emoji  \n",
       "0                3  💙 📱 💪  \n",
       "2                1      😏  \n",
       "3                2    👇 🔙  \n",
       "5                1      😂  \n",
       "6                1      🥀  \n",
       "...            ...    ...  \n",
       "35869            3  😭 😭 😍  \n",
       "35870            1      😭  \n",
       "35871            1      💚  \n",
       "35872            1      😞  \n",
       "35873            1      😌  \n",
       "\n",
       "[30792 rows x 5 columns]"
      ]
     },
     "execution_count": 33,
     "metadata": {},
     "output_type": "execute_result"
    }
   ],
   "source": [
    "emojis_data"
   ]
  },
  {
   "cell_type": "code",
   "execution_count": 34,
   "id": "db015350-4be0-49a5-8d11-c217092f6a58",
   "metadata": {},
   "outputs": [
    {
     "data": {
      "text/plain": [
       "💔    4492\n",
       "😂    3910\n",
       "😭    2289\n",
       "🌹    1596\n",
       "💙    1531\n",
       "🤔    1167\n",
       "😔    1110\n",
       "❤    1089\n",
       "🌚    1076\n",
       "💛     952\n",
       "Name: count, dtype: int64"
      ]
     },
     "execution_count": 34,
     "metadata": {},
     "output_type": "execute_result"
    }
   ],
   "source": [
    "pd.Series(' '.join(emojis_data['emoji']).split()).value_counts()[:10]"
   ]
  },
  {
   "cell_type": "code",
   "execution_count": 35,
   "id": "671f5dfc-b19d-422b-8df0-10b686bfdf77",
   "metadata": {},
   "outputs": [],
   "source": [
    "emojis = {\n",
    "    \"🙂\":\"يبتسم\",\n",
    "    \"😂\":\"يضحك\",\n",
    "    \"💔\":\"قلب حزين\",\n",
    "    \"🙂\":\"يبتسم\",\n",
    "    \"❤️\":\"حب\",\n",
    "    \"❤\":\"حب\",\n",
    "    \"😍\":\"حب\",\n",
    "    \"😭\":\"يبكي\",\n",
    "    \"😢\":\"حزن\",\n",
    "    \"😔\":\"حزن\",\n",
    "    \"♥\":\"حب\",\n",
    "    \"💜\":\"حب\",\n",
    "    \"😅\":\"يضحك\",\n",
    "    \"🙁\":\"حزين\",\n",
    "    \"💕\":\"حب\",\n",
    "    \"💙\":\"حب\",\n",
    "    \"😞\":\"حزين\",\n",
    "    \"😊\":\"سعادة\",\n",
    "    \"👏\":\"يصفق\",\n",
    "    \"👌\":\"احسنت\",\n",
    "    \"😴\":\"ينام\",\n",
    "    \"😀\":\"يضحك\",\n",
    "    \"😌\":\"حزين\",\n",
    "    \"🌹\":\"وردة\",\n",
    "    \"🙈\":\"حب\",\n",
    "    \"😄\":\"يضحك\",\n",
    "    \"😐\":\"محايد\",\n",
    "    \"✌\":\"منتصر\",\n",
    "    \"✨\":\"نجمه\",\n",
    "    \"🤔\":\"تفكير\",\n",
    "    \"😏\":\"يستهزء\",\n",
    "    \"😒\":\"يستهزء\",\n",
    "    \"🙄\":\"ملل\",\n",
    "    \"😕\":\"عصبية\",\n",
    "    \"😃\":\"يضحك\",\n",
    "    \"🌸\":\"وردة\",\n",
    "    \"😓\":\"حزن\",\n",
    "    \"💞\":\"حب\",\n",
    "    \"💗\":\"حب\",\n",
    "    \"😑\":\"منزعج\",\n",
    "    \"💭\":\"تفكير\",\n",
    "    \"😎\":\"ثقة\",\n",
    "    \"💛\":\"حب\",\n",
    "    \"😩\":\"حزين\",\n",
    "    \"💪\":\"عضلات\",\n",
    "    \"👍\":\"موافق\",\n",
    "    \"🙏🏻\":\"رجاء طلب\",\n",
    "    \"😳\":\"مصدوم\",\n",
    "    \"👏🏼\":\"تصفيق\",\n",
    "    \"🎶\":\"موسيقي\",\n",
    "    \"🌚\":\"صمت\",\n",
    "    \"💚\":\"حب\",\n",
    "    \"🙏\":\"رجاء طلب\",\n",
    "    \"💘\":\"حب\",\n",
    "    \"🍃\":\"سلام\",\n",
    "    \"☺\":\"يضحك\",\n",
    "    \"🐸\":\"ضفدع\",\n",
    "    \"😶\":\"مصدوم\",\n",
    "    \"✌️\":\"مرح\",\n",
    "    \"✋🏻\":\"توقف\",\n",
    "    \"😉\":\"غمزة\",\n",
    "    \"🌷\":\"حب\",\n",
    "    \"🙃\":\"مبتسم\",\n",
    "    \"😫\":\"حزين\",\n",
    "    \"😨\":\"مصدوم\",\n",
    "    \"🎼 \":\"موسيقي\",\n",
    "    \"🍁\":\"مرح\",\n",
    "    \"🍂\":\"مرح\",\n",
    "    \"💟\":\"حب\",\n",
    "    \"😪\":\"حزن\",\n",
    "    \"😆\":\"يضحك\",\n",
    "    \"😣\":\"استياء\",\n",
    "    \"☺️\":\"حب\",\n",
    "    \"😱\":\"كارثة\",\n",
    "    \"😁\":\"يضحك\",\n",
    "    \"😖\":\"استياء\",\n",
    "    \"🏃🏼\":\"يجري\",\n",
    "    \"😡\":\"غضب\",\n",
    "    \"🚶\":\"يسير\",\n",
    "    \"🤕\":\"مرض\",\n",
    "    \"‼️\":\"تعجب\",\n",
    "    \"🕊\":\"طائر\",\n",
    "    \"👌🏻\":\"احسنت\",\n",
    "    \"❣\":\"حب\",\n",
    "    \"🙊\":\"مصدوم\",\n",
    "    \"💃\":\"سعادة مرح\",\n",
    "    \"💃🏼\":\"سعادة مرح\",\n",
    "    \"😜\":\"مرح\",\n",
    "    \"👊\":\"ضربة\",\n",
    "    \"😟\":\"استياء\",\n",
    "    \"💖\":\"حب\",\n",
    "    \"😥\":\"حزن\",\n",
    "    \"🎻\":\"موسيقي\",\n",
    "    \"✒\":\"يكتب\",\n",
    "    \"🚶🏻\":\"يسير\",\n",
    "    \"💎\":\"الماظ\",\n",
    "    \"😷\":\"وباء مرض\",\n",
    "    \"☝\":\"واحد\",\n",
    "    \"🚬\":\"تدخين\",\n",
    "    \"💐\" : \"ورد\",\n",
    "    \"🌞\" : \"شمس\",\n",
    "    \"👆\" : \"الاول\",\n",
    "    \"⚠️\" :\"تحذير\",\n",
    "    \"🤗\" : \"احتواء\",\n",
    "    \"✖️\": \"غلط\",\n",
    "    \"📍\"  : \"مكان\",\n",
    "    \"👸\" : \"ملكه\",\n",
    "    \"👑\" : \"تاج\",\n",
    "    \"✔️\" : \"صح\",\n",
    "    \"💌\": \"قلب\",\n",
    "    \"😲\" : \"مندهش\",\n",
    "    \"💦\": \"ماء\",\n",
    "    \"🚫\" : \"خطا\",\n",
    "    \"👏🏻\" : \"برافو\",\n",
    "    \"🏊\" :\"يسبح\",\n",
    "    \"👍🏻\": \"تمام\",\n",
    "    \"⭕️\" :\"دائره كبيره\",\n",
    "    \"🎷\" : \"ساكسفون\",\n",
    "    \"👋\": \"تلويح باليد\",\n",
    "    \"✌🏼\": \"علامه النصر\",\n",
    "    \"🌝\":\"مبتسم\",\n",
    "    \"➿\"  : \"عقده مزدوجه\",\n",
    "    \"💪🏼\" : \"قوي\",\n",
    "    \"📩\":  \"تواصل معي\",\n",
    "    \"☕️\": \"قهوه\",\n",
    "    \"😧\" : \"قلق و صدمة\",\n",
    "    \"🗨\": \"رسالة\",   \n",
    "    \"❗️\" :\"تعجب\",\n",
    "    \"🙆🏻\": \"اشاره موافقه\",\n",
    "    \"👯\" :\"اخوات\",\n",
    "    \"©\" :  \"رمز\",\n",
    "    \"👵🏽\" :\"سيده عجوزه\",\n",
    "    \"🐣\": \"كتكوت\",  \n",
    "    \"🙌\": \"تشجيع\",\n",
    "    \"🙇\": \"شخص ينحني\",\n",
    "    \"👐🏽\":\"ايدي مفتوحه\",    \n",
    "    \"👌🏽\": \"بالظبط\",\n",
    "    \"⁉️\" : \"استنكار\",\n",
    "    \"⚽️\": \"كوره\",\n",
    "    \"🕶\" :\"حب\",\n",
    "    \"🎈\" :\"بالون\",    \n",
    "    \"🎀\":    \"ورده\",\n",
    "    \"💵\":  \"فلوس\",   \n",
    "    \"😋\":  \"جائع\",\n",
    "    \"😛\":  \"يغيظ\",\n",
    "    \"😠\":  \"غاضب\",\n",
    "    \"✍🏻\":  \"يكتب\",\n",
    "    \"🌾\":  \"ارز\",\n",
    "    \"👣\":  \"اثر قدمين\",\n",
    "    \"❌\":\"رفض\",\n",
    "    \"🍟\":\"طعام\",\n",
    "    \"👬\":\"صداقة\",\n",
    "    \"🐰\":\"ارنب\",\n",
    "    \"☂\":\"مطر\",\n",
    "    \"⚜\":\"مملكة فرنسا\",\n",
    "    \"🐑\":\"خروف\",\n",
    "    \"🗣\":\"صوت مرتفع\",\n",
    "    \"👌🏼\":\"احسنت\",\n",
    "    \"☘\":\"مرح\",\n",
    "    \"😮\":\"صدمة\",\n",
    "    \"😦\":\"قلق\",\n",
    "    \"⭕\":\"الحق\",\n",
    "    \"✏️\":\"قلم\",\n",
    "    \"ℹ\":\"معلومات\",\n",
    "    \"🙍🏻\":\"رفض\",\n",
    "    \"⚪️\":\"نضارة نقاء\",\n",
    "    \"🐤\":\"حزن\",\n",
    "    \"💫\":\"مرح\",\n",
    "    \"💝\":\"حب\",\n",
    "    \"🍔\":\"طعام\",\n",
    "    \"❤︎\":\"حب\",\n",
    "    \"✈️\":\"سفر\",\n",
    "    \"🏃🏻‍♀️\":\"يسير\",\n",
    "    \"🍳\":\"ذكر\",\n",
    "    \"🎤\":\"مايك غناء\",\n",
    "    \"🎾\":\"كره\",\n",
    "    \"🐔\":\"دجاجة\",\n",
    "    \"🙋\":\"سؤال\",\n",
    "    \"📮\":\"بحر\",\n",
    "    \"💉\":\"دواء\",\n",
    "    \"🙏🏼\":\"رجاء طلب\",\n",
    "    \"💂🏿 \":\"حارس\",\n",
    "    \"🎬\":\"سينما\",\n",
    "    \"♦️\":\"مرح\",\n",
    "    \"💡\":\"قكرة\",\n",
    "    \"‼\":\"تعجب\",\n",
    "    \"👼\":\"طفل\",\n",
    "    \"🔑\":\"مفتاح\",\n",
    "    \"♥️\":\"حب\",\n",
    "    \"🕋\":\"كعبة\",\n",
    "    \"🐓\":\"دجاجة\",\n",
    "    \"💩\":\"معترض\",\n",
    "    \"👽\":\"فضائي\",\n",
    "    \"☔️\":\"مطر\",\n",
    "    \"🍷\":\"عصير\",\n",
    "    \"🌟\":\"نجمة\",\n",
    "    \"☁️\":\"سحب\",\n",
    "    \"👃\":\"معترض\",\n",
    "    \"🌺\":\"مرح\",\n",
    "    \"🔪\":\"سكينة\",\n",
    "    \"♨\":\"سخونية\",\n",
    "    \"👊🏼\":\"ضرب\",\n",
    "    \"✏\":\"قلم\",\n",
    "    \"🚶🏾‍♀️\":\"يسير\",\n",
    "    \"👊\":\"ضربة\",\n",
    "    \"◾️\":\"وقف\",\n",
    "    \"😚\":\"حب\",\n",
    "    \"🔸\":\"مرح\",\n",
    "    \"👎🏻\":\"لا يعجبني\",\n",
    "    \"👊🏽\":\"ضربة\",\n",
    "    \"😙\":\"حب\",\n",
    "    \"🎥\":\"تصوير\",\n",
    "    \"👉\":\"جذب انتباه\",\n",
    "    \"👏🏽\":\"يصفق\",\n",
    "    \"💪🏻\":\"عضلات\",\n",
    "    \"🏴\":\"اسود\",\n",
    "    \"🔥\":\"حريق\",  \n",
    "    \"😬\":\"عدم الراحة\",   \n",
    "    \"👊🏿\":\"يضرب\",    \n",
    "    \"🌿\":\"ورقه شجره\",     \n",
    "    \"✋🏼\":\"كف ايد\",    \n",
    "    \"👐\":\"ايدي مفتوحه\",      \n",
    "    \"☠️\":\"وجه مرعب\",     \n",
    "    \"🎉\":\"يهنئ\",      \n",
    "    \"🔕\" :\"صامت\",\n",
    "    \"😿\":\"وجه حزين\",      \n",
    "    \"☹️\":\"وجه يائس\",     \n",
    "    \"😘\" :\"حب\",     \n",
    "    \"😰\" :\"خوف و حزن\",\n",
    "    \"🌼\":\"ورده\",      \n",
    "    \"💋\":  \"بوسه\",\n",
    "    \"👇\":\"لاسفل\",     \n",
    "    \"❣️\":\"حب\",     \n",
    "    \"🎧\":\"سماعات\",\n",
    "    \"📝\":\"يكتب\",      \n",
    "    \"😇\":\"دايخ\",      \n",
    "    \"😈\":\"رعب\",      \n",
    "    \"🏃\":\"يجري\",      \n",
    "    \"✌🏻\":\"علامه النصر\",    \n",
    "    \"🔫\":\"يضرب\",      \n",
    "    \"❗️\":\"تعجب\",\n",
    "    \"👎\":\"غير موافق\",      \n",
    "    \"🔐\":\"قفل\",      \n",
    "    \"👈\":\"لليمين\",\n",
    "    \"™\":\"رمز\",    \n",
    "    \"🚶🏽\":\"يتمشي\",    \n",
    "    \"😯\":\"متفاجأ\",  \n",
    "    \"✊\":\"يد مغلقه\",    \n",
    "    \"😻\":\"اعجاب\",    \n",
    "    \"🙉\" :\"قرد\",    \n",
    "    \"👧\":\"طفله صغيره\",     \n",
    "    \"🔴\":\"دائره حمراء\",      \n",
    "    \"💪🏽\":\"قوه\",     \n",
    "    \"💤\":\"ينام\",     \n",
    "    \"👀\":\"ينظر\",     \n",
    "    \"✍🏻\":\"يكتب\",  \n",
    "    \"❄️\":\"تلج\",\n",
    "    \"💀\":\"رعب\",   \n",
    "    \"😤\":\"وجه عابس\",      \n",
    "    \"🖋\":\"قلم\",      \n",
    "    \"🎩\":\"كاب\",      \n",
    "    \"☕️\":\"قهوه\",     \n",
    "    \"😹\":\"ضحك\",     \n",
    "    \"💓\":\"حب\",      \n",
    "    \"☄️ \":\"نار\",     \n",
    "    \"👻\":\"رعب\",\n",
    "    }\n",
    "\n",
    "emoticons_to_emoji = {\n",
    "    \":)\" : \"🙂\",\n",
    "    \":(\" : \"🙁\",\n",
    "    \"xD\" : \"😆\",\n",
    "    \":=(\": \"😭\",\n",
    "    \":'(\": \"😢\",\n",
    "    \":'‑(\": \"😢\",\n",
    "    \"XD\" : \"😂\",\n",
    "    \":D\" : \"🙂\",\n",
    "    \"♬\" : \"موسيقي\",\n",
    "    \"♡\" : \"❤\",\n",
    "    \"☻\"  : \"🙂\",\n",
    "    }"
   ]
  },
  {
   "cell_type": "code",
   "execution_count": 36,
   "id": "5fe420bd-ab10-4160-b72c-f0dbd6a574a7",
   "metadata": {},
   "outputs": [],
   "source": [
    "def remove_stop_words(text):\n",
    "    Text=[i for i in str(text).split() if i not in arabic_stopwords]\n",
    "    return \" \".join(Text)\n",
    "\n",
    "def ISRI_Stemmer(text):\n",
    "    #making an object\n",
    "    stemmer = ISRIStemmer()\n",
    "    \n",
    "    #stemming each word\n",
    "    text = stemmer.stem(text)\n",
    "    text = stemmer.pre32(text)\n",
    "    text = stemmer.suf32(text)\n",
    "    \n",
    "    return text\n",
    "\n",
    "def Snowball_stemmer(text):\n",
    "    text = text.split()\n",
    "    #making an object\n",
    "    stemmer = SnowballStemmer(\"arabic\")\n",
    "    \n",
    "    #stemming each word\n",
    "    text=[stemmer.stem(y) for y in text]\n",
    "    \n",
    "    return \" \" .join(text)\n",
    "\n",
    "def Arabic_Light_Stemmer(text):\n",
    "    #making an object\n",
    "    Arabic_Stemmer = ArabicLightStemmer()\n",
    "    \n",
    "    #stemming each word\n",
    "    text=[Arabic_Stemmer.light_stem(y) for y in text.split()]\n",
    "    \n",
    "    return \" \" .join(text)\n",
    "\n",
    "def normalizeArabic(text):\n",
    "    text = text.strip()\n",
    "    text = re.sub(\"ى\", \"ي\", text)\n",
    "    text = re.sub(\"ؤ\", \"ء\", text)\n",
    "    text = re.sub(\"ئ\", \"ء\", text)\n",
    "    text = re.sub(\"ة\", \"ه\", text)\n",
    "    \n",
    "    #remove repetetions\n",
    "    text = re.sub(\"[إأٱآا]\", \"ا\", text)\n",
    "    text = text.replace('وو', 'و')\n",
    "    text = text.replace('يي', 'ي')\n",
    "    text = text.replace('ييي', 'ي')\n",
    "    text = text.replace('اا', 'ا')\n",
    "\n",
    "    ## remove extra whitespace\n",
    "    text = re.sub('\\s+', ' ', text)\n",
    "    \n",
    "    # Remove longation\n",
    "    text = re.sub(r'(.)\\1+', r\"\\1\\1\", text) \n",
    "    \n",
    "    #Strip vowels from a text, include Shadda.\n",
    "    text = araby.strip_tashkeel(text)\n",
    "    \n",
    "    #Strip diacritics from a text, include harakats and small lettres The striped marks are\n",
    "    text = araby.strip_diacritics(text)\n",
    "    text=''.join([i for i in text if not i.isdigit()])\n",
    "    return text\n",
    "\n",
    "def Removing_non_arabic(text):\n",
    "    text = re.sub('[A-Za-z]+',' ',text)\n",
    "    return text\n",
    "\n",
    "def Removing_numbers(text):\n",
    "    text=''.join([i for i in text if not i.isdigit()])\n",
    "    return text\n",
    "\n",
    "def Removing_punctuations(text):\n",
    "    ## Remove punctuations\n",
    "    text = re.sub('[%s]' % re.escape(\"\"\"!\"#$%&'()*+,،-./:;<=>؟?@[\\]^_`{|}~\"\"\"), ' ', text)\n",
    "    text = text.replace('؛',\"\", )\n",
    "    \n",
    "    ## remove extra whitespace\n",
    "    text = re.sub('\\s+', ' ', text)\n",
    "    text =  \" \".join(text.split())\n",
    "    return text.strip()\n",
    "\n",
    "def Removing_urls(text):\n",
    "    url_pattern = re.compile(r'https?://\\S+|www\\.\\S+')\n",
    "    return url_pattern.sub(r'', text)\n",
    "\n",
    "def remove_emoji(string):\n",
    "    \n",
    "    emoji_pattern = re.compile(\"[\"\n",
    "                           u\"\\U0001F600-\\U0001F64F\"  # emoticons\n",
    "                           u\"\\U0001F300-\\U0001F5FF\"  # symbols & pictographs\n",
    "                           u\"\\U0001F680-\\U0001F6FF\"  # transport & map symbols\n",
    "                           u\"\\U0001F1E0-\\U0001F1FF\"  # flags (iOS)\n",
    "                           u\"\\U00002702-\\U000027B0\"\n",
    "                           u\"\\U000024C2-\\U0001F251\"\n",
    "                           \"]+\", flags=re.UNICODE)\n",
    "    return emoji_pattern.sub(r'', string).strip()\n",
    "\n",
    "def remove_emoticons(text):\n",
    "    emoticon_pattern = re.compile(u'(' + u'|'.join(k for k in EMOTICONS) + u')')\n",
    "    return emoticon_pattern.sub(r'', text).strip()\n",
    "\n",
    "\n",
    "\n",
    "def remove_extra_Space(text):\n",
    "    ## remove extra whitespace\n",
    "    text = re.sub('\\s+', ' ', text)\n",
    "    return  \" \".join(text.split())\n",
    "\n",
    "def remove_small_sentences(df):\n",
    "    for i in range(len(df)):\n",
    "        if len(df.text.iloc[i].split()) < 3:\n",
    "            df.text.iloc[i] = np.nan\n",
    "            \n",
    "            \n",
    "def replace_emoticon_with_emojis(text):\n",
    "    for i in range (len(text)):\n",
    "        message = text.iloc[i]\n",
    "        seperarate_word = message.split(' ')\n",
    "        cleaned_data.text.iloc[i] = \"\"\n",
    "\n",
    "        for word in seperarate_word:\n",
    "            text.iloc[i] += emoticons_to_emoji.get(word, word) + \" \"\n",
    "\n",
    "def replace_emojis_with_text(text):\n",
    "    for i in range (len(text)):\n",
    "            message = text.iloc[i]\n",
    "            seperarate_word = regex.findall(r'\\X', message)\n",
    "            text.iloc[i] = \"\"\n",
    "\n",
    "            for word in seperarate_word:\n",
    "                if any(emoji.distinct_emoji_list(char)  for char in word):\n",
    "                        text.iloc[i] += \" \" + emojis.get(word, word) + \" \"\n",
    "                else:\n",
    "                        text.iloc[i] +=  emojis.get(word, word) + \"\"\n",
    "            \n",
    "    \n",
    "            \n",
    "def space_between_emojis(s): \n",
    "    return ''.join((' '+c+' ') if c in emoji.UNICODE_EMOJI['en'] else c for c in s)\n",
    "\n",
    "def remove_hashtages_and_mentions(text):\n",
    "    text = re.sub(\"@[A-Za-z0-9_]+\",\"\", text)\n",
    "    text = re.sub(\"#[A-Za-z0-9_]+\",\"\", text)\n",
    "    return text\n"
   ]
  },
  {
   "cell_type": "code",
   "execution_count": 37,
   "id": "9b6e8135-bdf4-4ec5-9186-63d406dbcd8d",
   "metadata": {},
   "outputs": [],
   "source": [
    "cleaned_data = data"
   ]
  },
  {
   "cell_type": "code",
   "execution_count": 38,
   "id": "df1855f5-a35f-4933-9107-ef8bdedac313",
   "metadata": {},
   "outputs": [],
   "source": [
    "replace_emoticon_with_emojis(cleaned_data.text)\n",
    "replace_emojis_with_text(cleaned_data.text)\n",
    "cleaned_data.text=cleaned_data.text.apply(lambda text : Removing_non_arabic(text))\n",
    "cleaned_data.text=cleaned_data.text.apply(lambda text : Removing_numbers(text))\n",
    "cleaned_data.text=cleaned_data.text.apply(lambda text : remove_hashtages_and_mentions(text))\n",
    "cleaned_data.text=cleaned_data.text.apply(lambda text : Removing_urls(text))\n",
    "cleaned_data.text=cleaned_data.text.apply(lambda text : Removing_punctuations(text))"
   ]
  },
  {
   "cell_type": "code",
   "execution_count": 39,
   "id": "111fce38-d157-4975-b51c-e719cc80cc73",
   "metadata": {},
   "outputs": [],
   "source": [
    "cleaned_data.text=cleaned_data.text.apply(lambda text : normalizeArabic(text))\n",
    "cleaned_data.text=cleaned_data.text.apply(lambda text : remove_stop_words(text))"
   ]
  },
  {
   "cell_type": "code",
   "execution_count": 40,
   "id": "b8dc4bf7-4491-407b-844a-7c7474204074",
   "metadata": {},
   "outputs": [
    {
     "data": {
      "text/html": [
       "<div>\n",
       "<style scoped>\n",
       "    .dataframe tbody tr th:only-of-type {\n",
       "        vertical-align: middle;\n",
       "    }\n",
       "\n",
       "    .dataframe tbody tr th {\n",
       "        vertical-align: top;\n",
       "    }\n",
       "\n",
       "    .dataframe thead th {\n",
       "        text-align: right;\n",
       "    }\n",
       "</style>\n",
       "<table border=\"1\" class=\"dataframe\">\n",
       "  <thead>\n",
       "    <tr style=\"text-align: right;\">\n",
       "      <th></th>\n",
       "      <th>label</th>\n",
       "      <th>text</th>\n",
       "    </tr>\n",
       "  </thead>\n",
       "  <tbody>\n",
       "    <tr>\n",
       "      <th>0</th>\n",
       "      <td>pos</td>\n",
       "      <td>بمناسبه فوز الهلال حب سحب علي ايفون 📱 رتويت وت...</td>\n",
       "    </tr>\n",
       "    <tr>\n",
       "      <th>1</th>\n",
       "      <td>pos</td>\n",
       "      <td>الاتحاد النصر لاتحسبونا نسينا يالطواقي ولانبيك...</td>\n",
       "    </tr>\n",
       "    <tr>\n",
       "      <th>2</th>\n",
       "      <td>neg</td>\n",
       "      <td>المفروض يكون حساب موبايل تويتر يافيس واللي عند...</td>\n",
       "    </tr>\n",
       "    <tr>\n",
       "      <th>3</th>\n",
       "      <td>neg</td>\n",
       "      <td>فولو لاسفل والباك حالا 🔙 ⁦⁩ ⁦⁩ ⁦⁩ ⁦⁩⁦ ⁦⁩⁦…</td>\n",
       "    </tr>\n",
       "    <tr>\n",
       "      <th>4</th>\n",
       "      <td>neg</td>\n",
       "      <td>بجي اعوضكم معليش مكروفه بعرب ارمي هه</td>\n",
       "    </tr>\n",
       "    <tr>\n",
       "      <th>...</th>\n",
       "      <td>...</td>\n",
       "      <td>...</td>\n",
       "    </tr>\n",
       "    <tr>\n",
       "      <th>35869</th>\n",
       "      <td>neg</td>\n",
       "      <td>البومات اغاني يبكي قولو اسم شخص يسوي مثلهمم يب...</td>\n",
       "    </tr>\n",
       "    <tr>\n",
       "      <th>35870</th>\n",
       "      <td>neg</td>\n",
       "      <td>الي حضن بوم شفته وكنت شاكه اذا او مره فرحت عرف...</td>\n",
       "    </tr>\n",
       "    <tr>\n",
       "      <th>35871</th>\n",
       "      <td>pos</td>\n",
       "      <td>طفيت تمسون خير وهنا حب</td>\n",
       "    </tr>\n",
       "    <tr>\n",
       "      <th>35872</th>\n",
       "      <td>neg</td>\n",
       "      <td>ترا مره بطفش لاني بقضيه لحالي حزين صحباتي بيجت...</td>\n",
       "    </tr>\n",
       "    <tr>\n",
       "      <th>35873</th>\n",
       "      <td>pos</td>\n",
       "      <td>بالقوه تتخيلها انما انا ابالي بمعظم الاشياء يم...</td>\n",
       "    </tr>\n",
       "  </tbody>\n",
       "</table>\n",
       "<p>35874 rows × 2 columns</p>\n",
       "</div>"
      ],
      "text/plain": [
       "      label                                               text\n",
       "0       pos  بمناسبه فوز الهلال حب سحب علي ايفون 📱 رتويت وت...\n",
       "1       pos  الاتحاد النصر لاتحسبونا نسينا يالطواقي ولانبيك...\n",
       "2       neg  المفروض يكون حساب موبايل تويتر يافيس واللي عند...\n",
       "3       neg         فولو لاسفل والباك حالا 🔙 ⁦⁩ ⁦⁩ ⁦⁩ ⁦⁩⁦ ⁦⁩⁦…\n",
       "4       neg               بجي اعوضكم معليش مكروفه بعرب ارمي هه\n",
       "...     ...                                                ...\n",
       "35869   neg  البومات اغاني يبكي قولو اسم شخص يسوي مثلهمم يب...\n",
       "35870   neg  الي حضن بوم شفته وكنت شاكه اذا او مره فرحت عرف...\n",
       "35871   pos                             طفيت تمسون خير وهنا حب\n",
       "35872   neg  ترا مره بطفش لاني بقضيه لحالي حزين صحباتي بيجت...\n",
       "35873   pos  بالقوه تتخيلها انما انا ابالي بمعظم الاشياء يم...\n",
       "\n",
       "[35874 rows x 2 columns]"
      ]
     },
     "execution_count": 40,
     "metadata": {},
     "output_type": "execute_result"
    }
   ],
   "source": [
    "cleaned_data = cleaned_data.drop(columns=['stop_words' , 'emoji_count'])\n",
    "cleaned_data"
   ]
  },
  {
   "cell_type": "code",
   "execution_count": 41,
   "id": "4f8d4d32-2a7f-4c36-9d7e-56de7649a061",
   "metadata": {},
   "outputs": [],
   "source": [
    "cleaned_data.text=cleaned_data.text.apply(lambda text : Arabic_Light_Stemmer(text))"
   ]
  },
  {
   "cell_type": "code",
   "execution_count": 42,
   "id": "f8883d5e-7ea8-4a7c-a1aa-1646bd93ecc8",
   "metadata": {},
   "outputs": [
    {
     "data": {
      "text/plain": [
       "451"
      ]
     },
     "execution_count": 42,
     "metadata": {},
     "output_type": "execute_result"
    }
   ],
   "source": [
    "cleaned_data.duplicated().sum()"
   ]
  },
  {
   "cell_type": "code",
   "execution_count": 43,
   "id": "7144cc27-5281-4b6f-92e4-bbd4c4b5d37c",
   "metadata": {},
   "outputs": [],
   "source": [
    "index = cleaned_data[cleaned_data['text'].duplicated() == True].index\n",
    "cleaned_data.drop(index, axis = 0, inplace = True)\n",
    "\n",
    "#resetting the index of the data\n",
    "cleaned_data.reset_index(drop=True, inplace = True)"
   ]
  },
  {
   "cell_type": "code",
   "execution_count": 44,
   "id": "58fcdb58-4211-4689-98fc-cf8ca7efd989",
   "metadata": {},
   "outputs": [
    {
     "data": {
      "text/plain": [
       "0"
      ]
     },
     "execution_count": 44,
     "metadata": {},
     "output_type": "execute_result"
    }
   ],
   "source": [
    "cleaned_data.duplicated().sum()"
   ]
  },
  {
   "cell_type": "code",
   "execution_count": 45,
   "id": "526a1a05-7fc6-4099-b69a-5a0197b2cd88",
   "metadata": {},
   "outputs": [],
   "source": [
    "remove_small_sentences(cleaned_data)"
   ]
  },
  {
   "cell_type": "code",
   "execution_count": 46,
   "id": "4f82a4aa-f8d7-4c04-bec9-39918415bced",
   "metadata": {},
   "outputs": [
    {
     "data": {
      "text/plain": [
       "label      0\n",
       "text     625\n",
       "dtype: int64"
      ]
     },
     "execution_count": 46,
     "metadata": {},
     "output_type": "execute_result"
    }
   ],
   "source": [
    "cleaned_data.isnull().sum()"
   ]
  },
  {
   "cell_type": "code",
   "execution_count": 47,
   "id": "d1295ec6-1525-4d63-a5f8-08dd45a3de57",
   "metadata": {},
   "outputs": [],
   "source": [
    "cleaned_data.dropna(inplace = True)"
   ]
  },
  {
   "cell_type": "code",
   "execution_count": 48,
   "id": "687b527e-9d54-4294-8cb3-72ee7a1e0fbd",
   "metadata": {},
   "outputs": [],
   "source": [
    "cleaned_data.reset_index(inplace=True)"
   ]
  },
  {
   "cell_type": "code",
   "execution_count": 49,
   "id": "d1563007-e1fc-429a-93a4-707ddbe0c5f1",
   "metadata": {},
   "outputs": [
    {
     "data": {
      "text/plain": [
       "0"
      ]
     },
     "execution_count": 49,
     "metadata": {},
     "output_type": "execute_result"
    }
   ],
   "source": [
    "cleaned_data.duplicated().sum()"
   ]
  },
  {
   "cell_type": "code",
   "execution_count": 50,
   "id": "e2fe0d73-478e-4fa8-9971-d4c427a2844c",
   "metadata": {},
   "outputs": [],
   "source": [
    "X = cleaned_data['text']\n",
    "y = cleaned_data['label']"
   ]
  },
  {
   "cell_type": "code",
   "execution_count": 51,
   "id": "cbb94543-16b0-4009-be6d-63828d49a6da",
   "metadata": {},
   "outputs": [
    {
     "data": {
      "text/plain": [
       "label\n",
       "neg    17895\n",
       "pos    16772\n",
       "Name: count, dtype: int64"
      ]
     },
     "execution_count": 51,
     "metadata": {},
     "output_type": "execute_result"
    }
   ],
   "source": [
    "y.value_counts()"
   ]
  },
  {
   "cell_type": "code",
   "execution_count": 52,
   "id": "051165c5-f322-4b1b-8e71-27aaf71c5592",
   "metadata": {},
   "outputs": [
    {
     "name": "stdout",
     "output_type": "stream",
     "text": [
      "0    مناسب وز هلال حب سحب على يفو 📱 رتوي تابع سحب س...\n",
      "1    اتحاد نصر اتحسب سي يالطواق انب وقف مع ماح حاجت...\n",
      "2    مفروض كو حساب موبايل ويتر يافيس لي عند يس مينز...\n",
      "3                  ول اسفل باك حال 🔙 ⁦⁩ ⁦⁩ ⁦⁩ ⁦⁩⁦ ⁦⁩⁦…\n",
      "4                         جي عوض معليش مكروف عرب رم هه\n",
      "Name: text, dtype: object\n",
      "##################################################\n",
      "0    pos\n",
      "1    pos\n",
      "2    neg\n",
      "3    neg\n",
      "4    neg\n",
      "Name: label, dtype: object\n"
     ]
    }
   ],
   "source": [
    "print(X[:5])\n",
    "\n",
    "print('#' * 50)\n",
    "\n",
    "print(y[:5])"
   ]
  },
  {
   "cell_type": "code",
   "execution_count": 53,
   "id": "6eb37df7-de14-41cb-b0ed-53cdf158c8a1",
   "metadata": {},
   "outputs": [
    {
     "data": {
      "text/html": [
       "<div>\n",
       "<style scoped>\n",
       "    .dataframe tbody tr th:only-of-type {\n",
       "        vertical-align: middle;\n",
       "    }\n",
       "\n",
       "    .dataframe tbody tr th {\n",
       "        vertical-align: top;\n",
       "    }\n",
       "\n",
       "    .dataframe thead th {\n",
       "        text-align: right;\n",
       "    }\n",
       "</style>\n",
       "<table border=\"1\" class=\"dataframe\">\n",
       "  <thead>\n",
       "    <tr style=\"text-align: right;\">\n",
       "      <th></th>\n",
       "      <th>label</th>\n",
       "    </tr>\n",
       "  </thead>\n",
       "  <tbody>\n",
       "    <tr>\n",
       "      <th>0</th>\n",
       "      <td>1</td>\n",
       "    </tr>\n",
       "    <tr>\n",
       "      <th>1</th>\n",
       "      <td>1</td>\n",
       "    </tr>\n",
       "    <tr>\n",
       "      <th>2</th>\n",
       "      <td>0</td>\n",
       "    </tr>\n",
       "    <tr>\n",
       "      <th>3</th>\n",
       "      <td>0</td>\n",
       "    </tr>\n",
       "    <tr>\n",
       "      <th>4</th>\n",
       "      <td>0</td>\n",
       "    </tr>\n",
       "    <tr>\n",
       "      <th>...</th>\n",
       "      <td>...</td>\n",
       "    </tr>\n",
       "    <tr>\n",
       "      <th>34662</th>\n",
       "      <td>0</td>\n",
       "    </tr>\n",
       "    <tr>\n",
       "      <th>34663</th>\n",
       "      <td>0</td>\n",
       "    </tr>\n",
       "    <tr>\n",
       "      <th>34664</th>\n",
       "      <td>1</td>\n",
       "    </tr>\n",
       "    <tr>\n",
       "      <th>34665</th>\n",
       "      <td>0</td>\n",
       "    </tr>\n",
       "    <tr>\n",
       "      <th>34666</th>\n",
       "      <td>1</td>\n",
       "    </tr>\n",
       "  </tbody>\n",
       "</table>\n",
       "<p>34667 rows × 1 columns</p>\n",
       "</div>"
      ],
      "text/plain": [
       "       label\n",
       "0          1\n",
       "1          1\n",
       "2          0\n",
       "3          0\n",
       "4          0\n",
       "...      ...\n",
       "34662      0\n",
       "34663      0\n",
       "34664      1\n",
       "34665      0\n",
       "34666      1\n",
       "\n",
       "[34667 rows x 1 columns]"
      ]
     },
     "execution_count": 53,
     "metadata": {},
     "output_type": "execute_result"
    }
   ],
   "source": [
    "le = LabelEncoder()\n",
    "y = le.fit_transform(y)\n",
    "y = pd.DataFrame(y, columns=['label'])\n",
    "y"
   ]
  },
  {
   "cell_type": "code",
   "execution_count": 54,
   "id": "006c954f-e1d2-422b-b84a-eb8dae143165",
   "metadata": {},
   "outputs": [
    {
     "data": {
      "text/plain": [
       "(34667, 3)"
      ]
     },
     "execution_count": 54,
     "metadata": {},
     "output_type": "execute_result"
    }
   ],
   "source": [
    "cleaned_data.shape"
   ]
  },
  {
   "cell_type": "code",
   "execution_count": 55,
   "id": "3507d170-65e5-4d74-a029-c3ec541601a6",
   "metadata": {},
   "outputs": [],
   "source": [
    "# Number of examples to use for training\n",
    "training_size = 30000\n",
    "\n",
    "# Vocabulary size of the tokenizer\n",
    "vocab_size = 15000\n",
    "\n",
    "# Maximum length of the padded sequences\n",
    "max_length = 100\n",
    "\n",
    "# Output dimensions of the Embedding layer\n",
    "embedding_dim = 64\n",
    "lstm1_dim = 64\n",
    "lstm2_dim = 32\n",
    "lstm3_dim = 32\n",
    "dense_dim = 32"
   ]
  },
  {
   "cell_type": "code",
   "execution_count": 56,
   "id": "c9b6fee2-fbd6-4979-b898-60cb2498da0c",
   "metadata": {},
   "outputs": [],
   "source": [
    "\n",
    "training_sentences, testing_sentences, training_labels, testing_labels = train_test_split(\n",
    "    X, y, train_size=0.95, random_state=42, shuffle=True\n",
    ")\n"
   ]
  },
  {
   "cell_type": "code",
   "execution_count": 57,
   "id": "811a6b4c-07eb-473f-8b3f-243519370354",
   "metadata": {},
   "outputs": [
    {
     "data": {
      "text/html": [
       "<div>\n",
       "<style scoped>\n",
       "    .dataframe tbody tr th:only-of-type {\n",
       "        vertical-align: middle;\n",
       "    }\n",
       "\n",
       "    .dataframe tbody tr th {\n",
       "        vertical-align: top;\n",
       "    }\n",
       "\n",
       "    .dataframe thead th {\n",
       "        text-align: right;\n",
       "    }\n",
       "</style>\n",
       "<table border=\"1\" class=\"dataframe\">\n",
       "  <thead>\n",
       "    <tr style=\"text-align: right;\">\n",
       "      <th></th>\n",
       "      <th>label</th>\n",
       "    </tr>\n",
       "  </thead>\n",
       "  <tbody>\n",
       "    <tr>\n",
       "      <th>14535</th>\n",
       "      <td>0</td>\n",
       "    </tr>\n",
       "    <tr>\n",
       "      <th>26682</th>\n",
       "      <td>0</td>\n",
       "    </tr>\n",
       "    <tr>\n",
       "      <th>10122</th>\n",
       "      <td>1</td>\n",
       "    </tr>\n",
       "    <tr>\n",
       "      <th>32492</th>\n",
       "      <td>1</td>\n",
       "    </tr>\n",
       "    <tr>\n",
       "      <th>19966</th>\n",
       "      <td>0</td>\n",
       "    </tr>\n",
       "    <tr>\n",
       "      <th>...</th>\n",
       "      <td>...</td>\n",
       "    </tr>\n",
       "    <tr>\n",
       "      <th>16850</th>\n",
       "      <td>1</td>\n",
       "    </tr>\n",
       "    <tr>\n",
       "      <th>6265</th>\n",
       "      <td>1</td>\n",
       "    </tr>\n",
       "    <tr>\n",
       "      <th>11284</th>\n",
       "      <td>0</td>\n",
       "    </tr>\n",
       "    <tr>\n",
       "      <th>860</th>\n",
       "      <td>0</td>\n",
       "    </tr>\n",
       "    <tr>\n",
       "      <th>15795</th>\n",
       "      <td>0</td>\n",
       "    </tr>\n",
       "  </tbody>\n",
       "</table>\n",
       "<p>32933 rows × 1 columns</p>\n",
       "</div>"
      ],
      "text/plain": [
       "       label\n",
       "14535      0\n",
       "26682      0\n",
       "10122      1\n",
       "32492      1\n",
       "19966      0\n",
       "...      ...\n",
       "16850      1\n",
       "6265       1\n",
       "11284      0\n",
       "860        0\n",
       "15795      0\n",
       "\n",
       "[32933 rows x 1 columns]"
      ]
     },
     "execution_count": 57,
     "metadata": {},
     "output_type": "execute_result"
    }
   ],
   "source": [
    "training_labels"
   ]
  },
  {
   "cell_type": "code",
   "execution_count": 58,
   "id": "dae156c8-ab37-4018-819e-dd2a8aa5310b",
   "metadata": {},
   "outputs": [
    {
     "name": "stdout",
     "output_type": "stream",
     "text": [
      "{'label'}\n"
     ]
    }
   ],
   "source": [
    "unique_labels = set(training_labels)\n",
    "print(unique_labels)\n"
   ]
  },
  {
   "cell_type": "code",
   "execution_count": 59,
   "id": "f76780ae-1042-43fd-b11a-cee70b631757",
   "metadata": {},
   "outputs": [],
   "source": [
    "training_labels = to_categorical(training_labels, num_classes=2)\n",
    "testing_labels = to_categorical(testing_labels, num_classes=2)"
   ]
  },
  {
   "cell_type": "code",
   "execution_count": 60,
   "id": "1dac2e9b-209d-4a54-891c-c54d4c3aa804",
   "metadata": {},
   "outputs": [],
   "source": [
    "vocab_size = 10000\n",
    "max_length = 100\n",
    "trunc_type = 'post'\n",
    "padding_type = 'post'\n",
    "oov_tok = \"<OOV>\"\n",
    "training_size = 8000  \n",
    "\n",
    "\n",
    "training_sentences = [' '.join(simple_word_tokenize(sentence)) for sentence in training_sentences]\n",
    "testing_sentences = [' '.join(simple_word_tokenize(sentence)) for sentence in testing_sentences]\n",
    "\n",
    "tokenizer = Tokenizer(num_words=vocab_size, oov_token=oov_tok)\n",
    "tokenizer.fit_on_texts(training_sentences)\n",
    "word_index = tokenizer.word_index\n",
    "\n",
    "training_sequences = tokenizer.texts_to_sequences(training_sentences)\n",
    "training_padded = pad_sequences(training_sequences, maxlen=max_length, padding=padding_type, truncating=trunc_type)\n",
    "\n",
    "testing_sequences = tokenizer.texts_to_sequences(testing_sentences)\n",
    "testing_padded = pad_sequences(testing_sequences, maxlen=max_length, padding=padding_type, truncating=trunc_type)\n",
    "\n",
    "training_labels = np.array(training_labels)\n",
    "testing_labels = np.array(testing_labels)\n",
    "\n"
   ]
  },
  {
   "cell_type": "code",
   "execution_count": 61,
   "id": "37a1dace-2914-4539-b211-51980fa118b4",
   "metadata": {},
   "outputs": [
    {
     "data": {
      "text/plain": [
       "2"
      ]
     },
     "execution_count": 61,
     "metadata": {},
     "output_type": "execute_result"
    }
   ],
   "source": [
    "num_classes = len(np.unique(training_labels))\n",
    "num_classes"
   ]
  },
  {
   "cell_type": "code",
   "execution_count": 62,
   "id": "f06e3806-7e68-4d8c-85ef-2fbf712461e7",
   "metadata": {},
   "outputs": [
    {
     "data": {
      "text/plain": [
       "((32933, 100), (32933, 2))"
      ]
     },
     "execution_count": 62,
     "metadata": {},
     "output_type": "execute_result"
    }
   ],
   "source": [
    "training_padded.shape, training_labels.shape"
   ]
  },
  {
   "cell_type": "code",
   "execution_count": 131,
   "id": "eced22a8-5ea2-4119-afa7-b14f8bb7dfab",
   "metadata": {},
   "outputs": [],
   "source": [
    "# trunc_type='post'\n",
    "# padding_type='post'\n",
    "# oov_tok = \"<OOV>\"\n",
    "\n",
    "\n",
    "# tokenizer = Tokenizer(num_words=vocab_size , oov_token=oov_tok)\n",
    "# tokenizer.fit_on_texts(training_sentences)\n",
    "# word_index = tokenizer.word_index\n",
    "\n",
    "# training_sequences = tokenizer.texts_to_sequences(training_sentences)\n",
    "# training_padded = pad_sequences(training_sequences , maxlen=max_length ,padding=padding_type, truncating=trunc_type )\n",
    "\n",
    "# testing_sequences = tokenizer.texts_to_sequences(testing_sentences)\n",
    "# testing_padded = pad_sequences(testing_sequences, maxlen=max_length, padding=padding_type, truncating=trunc_type)\n",
    "\n",
    "# training_labels = np.array(training_labels)\n",
    "# testing_labels = np.array(testing_labels)\n",
    "\n",
    "\n",
    "# def preprocess_arabic_text(text):\n",
    "#     text = text.replace('أ', 'ا').replace('إ', 'ا').replace('آ', 'ا')\n",
    "#     text = text.replace('ة', 'ه')\n",
    "#     return text\n",
    "\n",
    "# # Preprocess sentences\n",
    "# training_sentences = [preprocess_arabic_text(sentence) for sentence in training_sentences]\n",
    "# testing_sentences = [preprocess_arabic_text(sentence) for sentence in testing_sentences]\n",
    "\n",
    "# # Tokenization\n",
    "# tokenizer = Tokenizer(num_words=vocab_size, oov_token=oov_tok)\n",
    "# tokenizer.fit_on_texts(training_sentences)\n",
    "# word_index = tokenizer.word_index\n",
    "\n",
    "# # Convert text to sequences\n",
    "# training_sequences = tokenizer.texts_to_sequences(training_sentences)\n",
    "# training_padded = pad_sequences(training_sequences, maxlen=max_length, padding=padding_type, truncating=trunc_type)\n",
    "\n",
    "# testing_sequences = tokenizer.texts_to_sequences(testing_sentences)\n",
    "# testing_padded = pad_sequences(testing_sequences, maxlen=max_length, padding=padding_type, truncating=trunc_type)\n",
    "\n",
    "# # Convert labels to numpy arrays\n",
    "# training_labels = np.array(training_labels)\n",
    "# testing_labels = np.array(testing_labels)"
   ]
  },
  {
   "cell_type": "code",
   "execution_count": 73,
   "id": "370cc3f6-10c4-4e0a-98ea-79e5e328686e",
   "metadata": {},
   "outputs": [
    {
     "name": "stdout",
     "output_type": "stream",
     "text": [
      "Model: \"sequential\"\n",
      "_________________________________________________________________\n",
      " Layer (type)                Output Shape              Param #   \n",
      "=================================================================\n",
      " embedding (Embedding)       (None, None, 64)          1754048   \n",
      "                                                                 \n",
      " bidirectional (Bidirectiona  (None, None, 128)        66048     \n",
      " l)                                                              \n",
      "                                                                 \n",
      " dropout (Dropout)           (None, None, 128)         0         \n",
      "                                                                 \n",
      " batch_normalization (BatchN  (None, None, 128)        512       \n",
      " ormalization)                                                   \n",
      "                                                                 \n",
      " bidirectional_1 (Bidirectio  (None, 64)               41216     \n",
      " nal)                                                            \n",
      "                                                                 \n",
      " dropout_1 (Dropout)         (None, 64)                0         \n",
      "                                                                 \n",
      " batch_normalization_1 (Batc  (None, 64)               256       \n",
      " hNormalization)                                                 \n",
      "                                                                 \n",
      " dense (Dense)               (None, 32)                2080      \n",
      "                                                                 \n",
      " dropout_2 (Dropout)         (None, 32)                0         \n",
      "                                                                 \n",
      " dense_1 (Dense)             (None, 2)                 66        \n",
      "                                                                 \n",
      "=================================================================\n",
      "Total params: 1,864,226\n",
      "Trainable params: 1,863,842\n",
      "Non-trainable params: 384\n",
      "_________________________________________________________________\n"
     ]
    }
   ],
   "source": [
    "vocab_size = len(tokenizer.word_index) + 1\n",
    "\n",
    "model = tf.keras.Sequential([\n",
    "    tf.keras.layers.Embedding(vocab_size, embedding_dim),\n",
    "    \n",
    "    tf.keras.layers.Bidirectional(tf.keras.layers.LSTM(lstm1_dim, return_sequences=True)),\n",
    "    tf.keras.layers.Dropout(0.3),\n",
    "    tf.keras.layers.BatchNormalization(),\n",
    "    \n",
    "    tf.keras.layers.Bidirectional(tf.keras.layers.LSTM(lstm2_dim)),\n",
    "    tf.keras.layers.Dropout(0.3),\n",
    "    tf.keras.layers.BatchNormalization(),\n",
    "    \n",
    "    tf.keras.layers.Dense(dense_dim, activation='relu' , kernel_regularizer=regularizers.l2(0.01)),\n",
    "    tf.keras.layers.Dropout(0.3),\n",
    "    \n",
    "    tf.keras.layers.Dense(2, activation='softmax')\n",
    "])\n",
    "\n",
    "model.compile(optimizer=tf.keras.optimizers.Adam(learning_rate=1e-4),\n",
    "              loss='categorical_crossentropy',\n",
    "              metrics=['accuracy'])\n",
    "model.summary()"
   ]
  },
  {
   "cell_type": "code",
   "execution_count": 74,
   "id": "ca226f67-f8c2-4d9f-9009-11eb0bd93581",
   "metadata": {},
   "outputs": [
    {
     "name": "stdout",
     "output_type": "stream",
     "text": [
      "Epoch 1/10\n",
      "1030/1030 - 53s - loss: 0.9289 - accuracy: 0.7314 - val_loss: 0.6262 - val_accuracy: 0.8674 - 53s/epoch - 52ms/step\n",
      "Epoch 2/10\n",
      "1030/1030 - 44s - loss: 0.5766 - accuracy: 0.8825 - val_loss: 0.5584 - val_accuracy: 0.8512 - 44s/epoch - 43ms/step\n",
      "Epoch 3/10\n",
      "1030/1030 - 42s - loss: 0.4401 - accuracy: 0.9065 - val_loss: 0.4429 - val_accuracy: 0.8910 - 42s/epoch - 41ms/step\n",
      "Epoch 4/10\n",
      "1030/1030 - 42s - loss: 0.3515 - accuracy: 0.9217 - val_loss: 0.4546 - val_accuracy: 0.8737 - 42s/epoch - 41ms/step\n",
      "Epoch 5/10\n",
      "1030/1030 - 44s - loss: 0.2835 - accuracy: 0.9321 - val_loss: 0.3777 - val_accuracy: 0.8847 - 44s/epoch - 43ms/step\n",
      "Epoch 6/10\n",
      "1030/1030 - 42s - loss: 0.2393 - accuracy: 0.9377 - val_loss: 0.5314 - val_accuracy: 0.8374 - 42s/epoch - 41ms/step\n",
      "Epoch 7/10\n",
      "1030/1030 - 39s - loss: 0.2021 - accuracy: 0.9457 - val_loss: 0.5872 - val_accuracy: 0.8281 - 39s/epoch - 38ms/step\n",
      "Epoch 8/10\n",
      "1030/1030 - 42s - loss: 0.1731 - accuracy: 0.9499 - val_loss: 0.4601 - val_accuracy: 0.8783 - 42s/epoch - 41ms/step\n",
      "Epoch 9/10\n",
      "1030/1030 - 42s - loss: 0.1546 - accuracy: 0.9537 - val_loss: 0.4530 - val_accuracy: 0.8783 - 42s/epoch - 41ms/step\n",
      "Epoch 10/10\n",
      "1030/1030 - 44s - loss: 0.1359 - accuracy: 0.9589 - val_loss: 0.4668 - val_accuracy: 0.8777 - 44s/epoch - 43ms/step\n"
     ]
    }
   ],
   "source": [
    "NUM_EPOCHS = 10\n",
    "\n",
    "history = model.fit(training_padded, training_labels, epochs=NUM_EPOCHS, validation_data=(testing_padded, testing_labels), verbose=2)"
   ]
  },
  {
   "cell_type": "code",
   "execution_count": 75,
   "id": "883788ae-3538-4d7b-87a3-a8ac5f153254",
   "metadata": {},
   "outputs": [
    {
     "name": "stdout",
     "output_type": "stream",
     "text": [
      "Epoch 1/10\n",
      "1030/1030 [==============================] - 45s 43ms/step - loss: 0.1211 - accuracy: 0.9623 - val_loss: 0.5083 - val_accuracy: 0.8731\n",
      "Epoch 2/10\n",
      "1030/1030 [==============================] - 42s 41ms/step - loss: 0.1124 - accuracy: 0.9644 - val_loss: 0.5287 - val_accuracy: 0.8731\n",
      "Epoch 3/10\n",
      "1030/1030 [==============================] - 47s 46ms/step - loss: 0.0991 - accuracy: 0.9672 - val_loss: 0.5454 - val_accuracy: 0.8777\n",
      "Epoch 4/10\n",
      "1030/1030 [==============================] - 45s 43ms/step - loss: 0.0899 - accuracy: 0.9706 - val_loss: 0.5566 - val_accuracy: 0.8668\n"
     ]
    }
   ],
   "source": [
    "early_stopping = EarlyStopping(monitor='val_loss', patience=3, restore_best_weights=True)\n",
    "\n",
    "history = model.fit(training_padded, training_labels, epochs=10, validation_data=(testing_padded, testing_labels), callbacks=[early_stopping])\n"
   ]
  },
  {
   "cell_type": "code",
   "execution_count": 76,
   "id": "c4e6c424-e0d0-402a-a2fa-88b42f1714f9",
   "metadata": {},
   "outputs": [
    {
     "name": "stdout",
     "output_type": "stream",
     "text": [
      "Epoch 1/10\n",
      "1030/1030 [==============================] - 44s 42ms/step - loss: 0.1105 - accuracy: 0.9645 - val_loss: 0.5114 - val_accuracy: 0.8777\n",
      "Epoch 2/10\n",
      "1030/1030 [==============================] - 44s 43ms/step - loss: 0.0981 - accuracy: 0.9679 - val_loss: 0.5452 - val_accuracy: 0.8743\n",
      "Epoch 3/10\n",
      "1030/1030 [==============================] - 45s 44ms/step - loss: 0.0917 - accuracy: 0.9700 - val_loss: 0.5677 - val_accuracy: 0.8697\n",
      "Epoch 4/10\n",
      "1030/1030 [==============================] - 48s 46ms/step - loss: 0.0804 - accuracy: 0.9737 - val_loss: 0.6188 - val_accuracy: 0.8691\n"
     ]
    }
   ],
   "source": [
    "history_additional = model.fit(training_padded, training_labels, epochs=10, validation_data=(testing_padded, testing_labels), callbacks=[early_stopping])"
   ]
  },
  {
   "cell_type": "code",
   "execution_count": 77,
   "id": "b2d0b518-8274-4406-90a4-6d4643cd1a8a",
   "metadata": {},
   "outputs": [],
   "source": [
    "for key in history.history.keys():\n",
    "    history.history[key] += history_additional.history[key]\n"
   ]
  },
  {
   "cell_type": "code",
   "execution_count": 78,
   "id": "bce27f0a-72f8-4c76-9d39-99b9d10dc968",
   "metadata": {},
   "outputs": [
    {
     "data": {
      "image/png": "[encoded data removed]",
      "text/plain": [
       "<Figure size 640x480 with 1 Axes>"
      ]
     },
     "metadata": {},
     "output_type": "display_data"
    },
    {
     "data": {
      "image/png": "[encoded data removed]",
      "text/plain": [
       "<Figure size 640x480 with 1 Axes>"
      ]
     },
     "metadata": {},
     "output_type": "display_data"
    }
   ],
   "source": [
    "import matplotlib.pyplot as plt\n",
    "\n",
    "# Plot utility\n",
    "def plot_graphs(history, string):\n",
    "  plt.plot(history.history[string])\n",
    "  plt.plot(history.history['val_'+string])\n",
    "  plt.xlabel(\"Epochs\")\n",
    "  plt.ylabel(string)\n",
    "  plt.legend([string, 'val_'+string])\n",
    "  plt.show()\n",
    "\n",
    "# Plot the accuracy and results \n",
    "plot_graphs(history, \"accuracy\")\n",
    "plot_graphs(history, \"loss\")"
   ]
  },
  {
   "cell_type": "code",
   "execution_count": 81,
   "id": "67cb8e48-e736-4174-8845-aa16b475de4c",
   "metadata": {},
   "outputs": [
    {
     "name": "stdout",
     "output_type": "stream",
     "text": [
      "55/55 [==============================] - 2s 21ms/step\n"
     ]
    }
   ],
   "source": [
    "true_labels = np.argmax(testing_labels, axis=1)\n",
    "predicted_probabilities = model.predict(testing_padded)\n",
    "predicted_labels = np.argmax(predicted_probabilities, axis=1)\n"
   ]
  },
  {
   "cell_type": "code",
   "execution_count": 82,
   "id": "67097a7f-cec7-49c2-bc45-1a4849089643",
   "metadata": {},
   "outputs": [
    {
     "data": {
      "image/png": "[encoded data removed]",
      "text/plain": [
       "<Figure size 800x600 with 2 Axes>"
      ]
     },
     "metadata": {},
     "output_type": "display_data"
    }
   ],
   "source": [
    "\n",
    "true_labels = np.argmax(testing_labels, axis=1)\n",
    "\n",
    "cm = confusion_matrix(true_labels, predicted_labels)\n",
    "\n",
    "plt.figure(figsize=(8, 6))\n",
    "sns.heatmap(cm, annot=True, fmt='d', cmap='Blues')\n",
    "plt.xlabel('Predicted Labels')\n",
    "plt.ylabel('True Labels')\n",
    "plt.title('Confusion Matrix')\n",
    "plt.show()\n"
   ]
  },
  {
   "cell_type": "code",
   "execution_count": 83,
   "id": "f8bfba64-8e3e-49c6-9275-8c51c96cee77",
   "metadata": {},
   "outputs": [],
   "source": [
    "model.save(\"Arabic_senti.h5\")"
   ]
  },
  {
   "cell_type": "code",
   "execution_count": 72,
   "id": "a32ab9d0-4ad0-46b0-b6f0-f0f77e8feb0c",
   "metadata": {},
   "outputs": [
    {
     "name": "stdout",
     "output_type": "stream",
     "text": [
      "Model: \"sequential\"\n",
      "_________________________________________________________________\n",
      " Layer (type)                Output Shape              Param #   \n",
      "=================================================================\n",
      " embedding (Embedding)       (None, None, 128)         3511552   \n",
      "                                                                 \n",
      " bidirectional (Bidirectiona  (None, None, 128)        98816     \n",
      " l)                                                              \n",
      "                                                                 \n",
      " dropout (Dropout)           (None, None, 128)         0         \n",
      "                                                                 \n",
      " batch_normalization (BatchN  (None, None, 128)        512       \n",
      " ormalization)                                                   \n",
      "                                                                 \n",
      " bidirectional_1 (Bidirectio  (None, 128)              98816     \n",
      " nal)                                                            \n",
      "                                                                 \n",
      " dropout_1 (Dropout)         (None, 128)               0         \n",
      "                                                                 \n",
      " batch_normalization_1 (Batc  (None, 128)              512       \n",
      " hNormalization)                                                 \n",
      "                                                                 \n",
      " dense (Dense)               (None, 64)                8256      \n",
      "                                                                 \n",
      " dropout_2 (Dropout)         (None, 64)                0         \n",
      "                                                                 \n",
      " dense_1 (Dense)             (None, 2)                 130       \n",
      "                                                                 \n",
      "=================================================================\n",
      "Total params: 3,718,594\n",
      "Trainable params: 3,718,082\n",
      "Non-trainable params: 512\n",
      "_________________________________________________________________\n",
      "Epoch 1/10\n",
      "1030/1030 - 52s - loss: 1.1880 - accuracy: 0.7720 - val_loss: 0.8238 - val_accuracy: 0.8829 - 52s/epoch - 51ms/step\n",
      "Epoch 2/10\n",
      "1030/1030 - 42s - loss: 0.6964 - accuracy: 0.8930 - val_loss: 0.5856 - val_accuracy: 0.8950 - 42s/epoch - 41ms/step\n",
      "Epoch 3/10\n",
      "1030/1030 - 42s - loss: 0.4793 - accuracy: 0.9139 - val_loss: 0.4770 - val_accuracy: 0.8899 - 42s/epoch - 41ms/step\n",
      "Epoch 4/10\n",
      "1030/1030 - 42s - loss: 0.3473 - accuracy: 0.9266 - val_loss: 0.4346 - val_accuracy: 0.8893 - 42s/epoch - 41ms/step\n",
      "Epoch 5/10\n",
      "1030/1030 - 44s - loss: 0.2596 - accuracy: 0.9390 - val_loss: 0.3931 - val_accuracy: 0.8858 - 44s/epoch - 42ms/step\n",
      "Epoch 6/10\n",
      "1030/1030 - 43s - loss: 0.2018 - accuracy: 0.9453 - val_loss: 0.4389 - val_accuracy: 0.8841 - 43s/epoch - 42ms/step\n",
      "Epoch 7/10\n",
      "1030/1030 - 43s - loss: 0.1614 - accuracy: 0.9523 - val_loss: 0.3997 - val_accuracy: 0.8737 - 43s/epoch - 42ms/step\n",
      "Epoch 8/10\n",
      "1030/1030 - 42s - loss: 0.1337 - accuracy: 0.9588 - val_loss: 0.5020 - val_accuracy: 0.8708 - 42s/epoch - 41ms/step\n"
     ]
    },
    {
     "name": "stderr",
     "output_type": "stream",
     "text": [
      "2024/10/17 15:18:40 WARNING mlflow.tensorflow: You are saving a TensorFlow Core model or Keras model without a signature. Inference with mlflow.pyfunc.spark_udf() will not work unless the model's pyfunc representation accepts pandas DataFrames as inference inputs.\n",
      "WARNING:absl:Found untraced functions such as lstm_cell_1_layer_call_fn, lstm_cell_1_layer_call_and_return_conditional_losses, lstm_cell_2_layer_call_fn, lstm_cell_2_layer_call_and_return_conditional_losses, lstm_cell_4_layer_call_fn while saving (showing 5 of 8). These functions will not be directly callable after loading.\n"
     ]
    },
    {
     "name": "stdout",
     "output_type": "stream",
     "text": [
      "INFO:tensorflow:Assets written to: C:\\Users\\asamy\\AppData\\Local\\Temp\\tmpb75xal0y\\model\\data\\model\\assets\n"
     ]
    },
    {
     "name": "stderr",
     "output_type": "stream",
     "text": [
      "INFO:tensorflow:Assets written to: C:\\Users\\asamy\\AppData\\Local\\Temp\\tmpb75xal0y\\model\\data\\model\\assets\n",
      "2024/10/17 15:19:15 WARNING mlflow.models.model: Model logged without a signature and input example. Please set `input_example` parameter when logging the model to auto infer the model signature.\n",
      "2024/10/17 15:21:08 INFO mlflow.tracking._tracking_service.client: 🏃 View run glamorous-hawk-503 at: https://dagshub.com/asamy4194/DEPI_Final_Project.mlflow/#/experiments/2/runs/8d5a17a32dc5463cbc21d49db57f2710.\n",
      "2024/10/17 15:21:08 INFO mlflow.tracking._tracking_service.client: 🧪 View experiment at: https://dagshub.com/asamy4194/DEPI_Final_Project.mlflow/#/experiments/2.\n"
     ]
    },
    {
     "name": "stdout",
     "output_type": "stream",
     "text": [
      "Epoch 1/10\n",
      "1030/1030 [==============================] - 46s 44ms/step - loss: 0.2004 - accuracy: 0.9458 - val_loss: 0.3977 - val_accuracy: 0.8858\n",
      "Epoch 2/10\n",
      "1030/1030 [==============================] - 44s 43ms/step - loss: 0.1564 - accuracy: 0.9537 - val_loss: 0.4586 - val_accuracy: 0.8743\n",
      "Epoch 3/10\n",
      "1030/1030 [==============================] - 43s 41ms/step - loss: 0.1311 - accuracy: 0.9588 - val_loss: 0.4730 - val_accuracy: 0.8864\n",
      "Epoch 4/10\n",
      "1030/1030 [==============================] - 41s 40ms/step - loss: 0.1141 - accuracy: 0.9631 - val_loss: 0.4662 - val_accuracy: 0.8847\n"
     ]
    }
   ],
   "source": [
    "import tensorflow as tf\n",
    "from tensorflow.keras import regularizers\n",
    "from tensorflow.keras.callbacks import EarlyStopping\n",
    "import mlflow\n",
    "import mlflow.keras\n",
    "import json\n",
    "import os\n",
    "\n",
    "# Ensure these variables are defined\n",
    "embedding_dim = 128  # Set your embedding dimension\n",
    "lstm1_dim = 64       # Set LSTM layer 1 units\n",
    "lstm2_dim = 64       # Set LSTM layer 2 units\n",
    "dense_dim = 64       # Set Dense layer units\n",
    "NUM_EPOCHS = 10      # Set the number of epochs\n",
    "\n",
    "# Set MLflow tracking URI and experiment\n",
    "mlflow.set_tracking_uri(\"https://dagshub.com/asamy4194/DEPI_Final_Project.mlflow\")\n",
    "mlflow.set_experiment(experiment_id=2)\n",
    "\n",
    "import os\n",
    "os.environ['MLFLOW_TRACKING_USERNAME'] = 'asamy4194' # 'learnpythonlanguage'\n",
    "os.environ['MLFLOW_TRACKING_PASSWORD'] = '951cd23d2b7cec538703bd36d2e2fbef6a209ec8' #\n",
    "os.environ['MLFLOW_TRACKING_URI'] = 'https://dagshub.com/asamy4194/DEPI_Final_Project.mlflow' # https://dagshub.com/learnpythonlanguage/mlflow_dagshub_demo.mlflow\n",
    "\n",
    "\n",
    "# Model definition\n",
    "vocab_size = len(tokenizer.word_index) + 1  # Ensure 'tokenizer' is defined\n",
    "\n",
    "model = tf.keras.Sequential([\n",
    "    tf.keras.layers.Embedding(vocab_size, embedding_dim),\n",
    "    \n",
    "    tf.keras.layers.Bidirectional(tf.keras.layers.LSTM(lstm1_dim, return_sequences=True)),\n",
    "    tf.keras.layers.Dropout(0.3),\n",
    "    tf.keras.layers.BatchNormalization(),\n",
    "    \n",
    "    tf.keras.layers.Bidirectional(tf.keras.layers.LSTM(lstm2_dim)),\n",
    "    tf.keras.layers.Dropout(0.3),\n",
    "    tf.keras.layers.BatchNormalization(),\n",
    "    \n",
    "    tf.keras.layers.Dense(dense_dim, activation='relu', kernel_regularizer=regularizers.l2(0.01)),\n",
    "    tf.keras.layers.Dropout(0.3),\n",
    "    \n",
    "    tf.keras.layers.Dense(2, activation='softmax')\n",
    "])\n",
    "\n",
    "# Compile the model\n",
    "model.compile(optimizer=tf.keras.optimizers.Adam(learning_rate=1e-4),\n",
    "              loss='categorical_crossentropy',\n",
    "              metrics=['accuracy'])\n",
    "\n",
    "# Print model summary\n",
    "model.summary()\n",
    "\n",
    "# MLflow logging\n",
    "with mlflow.start_run():\n",
    "    # Log model parameters\n",
    "    mlflow.log_param(\"vocab_size\", vocab_size)\n",
    "    mlflow.log_param(\"embedding_dim\", embedding_dim)\n",
    "    mlflow.log_param(\"lstm1_dim\", lstm1_dim)\n",
    "    mlflow.log_param(\"lstm2_dim\", lstm2_dim)\n",
    "    mlflow.log_param(\"dense_dim\", dense_dim)\n",
    "    mlflow.log_param(\"learning_rate\", 1e-4)\n",
    "    mlflow.log_param(\"dropout_rate\", 0.3)\n",
    "    \n",
    "    # Early stopping callback\n",
    "    early_stopping = EarlyStopping(monitor='val_loss', patience=3, restore_best_weights=True)\n",
    "\n",
    "    # Train the model and log metrics\n",
    "    history = model.fit(training_padded, training_labels, \n",
    "                        epochs=NUM_EPOCHS, \n",
    "                        validation_data=(testing_padded, testing_labels), \n",
    "                        callbacks=[early_stopping], \n",
    "                        verbose=2)\n",
    "    \n",
    "    # Log metrics\n",
    "    for epoch, train_acc in enumerate(history.history['accuracy']):\n",
    "        mlflow.log_metric('train_accuracy', train_acc, step=epoch)\n",
    "    for epoch, val_acc in enumerate(history.history['val_accuracy']):\n",
    "        mlflow.log_metric('val_accuracy', val_acc, step=epoch)\n",
    "\n",
    "    # Log the model to MLflow\n",
    "    mlflow.keras.log_model(model, \"model\")\n",
    "\n",
    "    # Save training history to a JSON file and log it as an artifact\n",
    "    history_file = \"history.json\"\n",
    "    with open(history_file, 'w') as f:\n",
    "        json.dump(history.history, f)\n",
    "    mlflow.log_artifact(history_file)\n",
    "\n",
    "    # End the MLflow run\n",
    "    mlflow.end_run()\n",
    "\n",
    "# Additional training, if needed\n",
    "history_additional = model.fit(training_padded, training_labels, \n",
    "                               epochs=10, \n",
    "                               validation_data=(testing_padded, testing_labels), \n",
    "                               callbacks=[early_stopping])\n"
   ]
  },
  {
   "cell_type": "code",
   "execution_count": 73,
   "id": "bfcc0b56-f70f-4d8c-9129-a1514e386678",
   "metadata": {},
   "outputs": [],
   "source": [
    "model.save(\"mlflow_model.h5\")"
   ]
  },
  {
   "cell_type": "code",
   "execution_count": 74,
   "id": "5c9ac141-b9ab-4989-967b-bf94b6a6b043",
   "metadata": {},
   "outputs": [
    {
     "name": "stdout",
     "output_type": "stream",
     "text": [
      "Model: \"sequential_1\"\n",
      "_________________________________________________________________\n",
      " Layer (type)                Output Shape              Param #   \n",
      "=================================================================\n",
      " embedding_1 (Embedding)     (None, 100, 128)          3511552   \n",
      "                                                                 \n",
      " conv1d (Conv1D)             (None, 96, 128)           82048     \n",
      "                                                                 \n",
      " global_max_pooling1d (Globa  (None, 128)              0         \n",
      " lMaxPooling1D)                                                  \n",
      "                                                                 \n",
      " dense_2 (Dense)             (None, 64)                8256      \n",
      "                                                                 \n",
      " dropout_3 (Dropout)         (None, 64)                0         \n",
      "                                                                 \n",
      " dense_3 (Dense)             (None, 2)                 130       \n",
      "                                                                 \n",
      "=================================================================\n",
      "Total params: 3,601,986\n",
      "Trainable params: 3,601,986\n",
      "Non-trainable params: 0\n",
      "_________________________________________________________________\n",
      "Epoch 1/10\n",
      "1030/1030 - 9s - loss: 0.8510 - accuracy: 0.8248 - val_loss: 0.4763 - val_accuracy: 0.8904 - 9s/epoch - 9ms/step\n",
      "Epoch 2/10\n",
      "1030/1030 - 6s - loss: 0.3799 - accuracy: 0.8994 - val_loss: 0.3267 - val_accuracy: 0.8973 - 6s/epoch - 6ms/step\n",
      "Epoch 3/10\n",
      "1030/1030 - 6s - loss: 0.2832 - accuracy: 0.9161 - val_loss: 0.2985 - val_accuracy: 0.8950 - 6s/epoch - 6ms/step\n",
      "Epoch 4/10\n",
      "1030/1030 - 6s - loss: 0.2397 - accuracy: 0.9286 - val_loss: 0.2929 - val_accuracy: 0.8945 - 6s/epoch - 6ms/step\n",
      "Epoch 5/10\n",
      "1030/1030 - 6s - loss: 0.2074 - accuracy: 0.9388 - val_loss: 0.3023 - val_accuracy: 0.8881 - 6s/epoch - 6ms/step\n",
      "Epoch 6/10\n",
      "1030/1030 - 6s - loss: 0.1816 - accuracy: 0.9484 - val_loss: 0.3133 - val_accuracy: 0.8852 - 6s/epoch - 6ms/step\n",
      "Epoch 7/10\n",
      "1030/1030 - 6s - loss: 0.1571 - accuracy: 0.9572 - val_loss: 0.3195 - val_accuracy: 0.8858 - 6s/epoch - 6ms/step\n"
     ]
    },
    {
     "name": "stderr",
     "output_type": "stream",
     "text": [
      "2024/10/17 15:25:01 WARNING mlflow.tensorflow: You are saving a TensorFlow Core model or Keras model without a signature. Inference with mlflow.pyfunc.spark_udf() will not work unless the model's pyfunc representation accepts pandas DataFrames as inference inputs.\n",
      "WARNING:absl:Found untraced functions such as _jit_compiled_convolution_op while saving (showing 1 of 1). These functions will not be directly callable after loading.\n"
     ]
    },
    {
     "name": "stdout",
     "output_type": "stream",
     "text": [
      "INFO:tensorflow:Assets written to: C:\\Users\\asamy\\AppData\\Local\\Temp\\tmpfc9khcqu\\model\\data\\model\\assets\n"
     ]
    },
    {
     "name": "stderr",
     "output_type": "stream",
     "text": [
      "INFO:tensorflow:Assets written to: C:\\Users\\asamy\\AppData\\Local\\Temp\\tmpfc9khcqu\\model\\data\\model\\assets\n",
      "2024/10/17 15:25:09 WARNING mlflow.models.model: Model logged without a signature and input example. Please set `input_example` parameter when logging the model to auto infer the model signature.\n",
      "2024/10/17 15:26:39 INFO mlflow.tracking._tracking_service.client: 🏃 View run CNN Model at: https://dagshub.com/asamy4194/DEPI_Final_Project.mlflow/#/experiments/2/runs/9a366e4aa79a457fa7d584df24c38390.\n",
      "2024/10/17 15:26:39 INFO mlflow.tracking._tracking_service.client: 🧪 View experiment at: https://dagshub.com/asamy4194/DEPI_Final_Project.mlflow/#/experiments/2.\n"
     ]
    }
   ],
   "source": [
    "import tensorflow as tf\n",
    "from tensorflow.keras import regularizers\n",
    "from tensorflow.keras.callbacks import EarlyStopping\n",
    "import mlflow\n",
    "import mlflow.keras\n",
    "import json\n",
    "import os\n",
    "\n",
    "# Set MLflow tracking URI and experiment\n",
    "mlflow.set_tracking_uri(\"https://dagshub.com/asamy4194/DEPI_Final_Project.mlflow\")\n",
    "mlflow.set_experiment(experiment_id=2)\n",
    "\n",
    "os.environ['MLFLOW_TRACKING_USERNAME'] = 'asamy4194'\n",
    "os.environ['MLFLOW_TRACKING_PASSWORD'] = '951cd23d2b7cec538703bd36d2e2fbef6a209ec8'\n",
    "\n",
    "# Define model parameters\n",
    "embedding_dim = 128\n",
    "filters = 128  # Number of filters for Conv1D layers\n",
    "kernel_size = 5  # Kernel size for Conv1D\n",
    "dense_dim = 64\n",
    "NUM_EPOCHS = 10\n",
    "\n",
    "# CNN Model Definition\n",
    "model_cnn = tf.keras.Sequential([\n",
    "    tf.keras.layers.Embedding(input_dim=vocab_size, output_dim=embedding_dim, input_length=training_padded.shape[1]),\n",
    "    \n",
    "    tf.keras.layers.Conv1D(filters=filters, kernel_size=kernel_size, activation='relu'),\n",
    "    tf.keras.layers.GlobalMaxPooling1D(),\n",
    "    \n",
    "    tf.keras.layers.Dense(dense_dim, activation='relu', kernel_regularizer=regularizers.l2(0.01)),\n",
    "    tf.keras.layers.Dropout(0.3),\n",
    "    \n",
    "    tf.keras.layers.Dense(2, activation='softmax')\n",
    "])\n",
    "\n",
    "# Compile the model\n",
    "model_cnn.compile(optimizer=tf.keras.optimizers.Adam(learning_rate=1e-4),\n",
    "                  loss='categorical_crossentropy',\n",
    "                  metrics=['accuracy'])\n",
    "\n",
    "# Print model summary\n",
    "model_cnn.summary()\n",
    "\n",
    "# MLflow logging for the CNN model\n",
    "with mlflow.start_run(run_name=\"CNN Model\"):\n",
    "    # Log model parameters\n",
    "    mlflow.log_param(\"vocab_size\", vocab_size)\n",
    "    mlflow.log_param(\"embedding_dim\", embedding_dim)\n",
    "    mlflow.log_param(\"filters\", filters)\n",
    "    mlflow.log_param(\"kernel_size\", kernel_size)\n",
    "    mlflow.log_param(\"dense_dim\", dense_dim)\n",
    "    mlflow.log_param(\"learning_rate\", 1e-4)\n",
    "    mlflow.log_param(\"dropout_rate\", 0.3)\n",
    "    \n",
    "    # Early stopping callback\n",
    "    early_stopping = EarlyStopping(monitor='val_loss', patience=3, restore_best_weights=True)\n",
    "\n",
    "    # Train the CNN model\n",
    "    history_cnn = model_cnn.fit(training_padded, training_labels, \n",
    "                                epochs=NUM_EPOCHS, \n",
    "                                validation_data=(testing_padded, testing_labels), \n",
    "                                callbacks=[early_stopping], \n",
    "                                verbose=2)\n",
    "    \n",
    "    # Log training metrics\n",
    "    for epoch, train_acc in enumerate(history_cnn.history['accuracy']):\n",
    "        mlflow.log_metric('train_accuracy', train_acc, step=epoch)\n",
    "    for epoch, val_acc in enumerate(history_cnn.history['val_accuracy']):\n",
    "        mlflow.log_metric('val_accuracy', val_acc, step=epoch)\n",
    "\n",
    "    # Log the CNN model\n",
    "    mlflow.keras.log_model(model_cnn, \"cnn_model\")\n",
    "\n",
    "    # Save the training history as a JSON file\n",
    "    history_cnn_file = \"cnn_history.json\"\n",
    "    with open(history_cnn_file, 'w') as f:\n",
    "        json.dump(history_cnn.history, f)\n",
    "    mlflow.log_artifact(history_cnn_file)\n",
    "\n",
    "    # End the MLflow run\n",
    "    mlflow.end_run()\n"
   ]
  },
  {
   "cell_type": "code",
   "execution_count": 75,
   "id": "6bd4aebf-95d2-4613-8c7f-e814cf202622",
   "metadata": {},
   "outputs": [],
   "source": [
    "model.save(\"mlflow_model_2.h5\")"
   ]
  },
  {
   "cell_type": "code",
   "execution_count": null,
   "id": "f3a5ddb7-a966-4d1d-b07f-6e9e6b874bd2",
   "metadata": {},
   "outputs": [],
   "source": []
  }
 ],
 "metadata": {
  "kernelspec": {
   "display_name": "Python 3 (ipykernel)",
   "language": "python",
   "name": "python3"
  },
  "language_info": {
   "codemirror_mode": {
    "name": "ipython",
    "version": 3
   },
   "file_extension": ".py",
   "mimetype": "text/x-python",
   "name": "python",
   "nbconvert_exporter": "python",
   "pygments_lexer": "ipython3",
   "version": "3.9.19"
  }
 },
 "nbformat": 4,
 "nbformat_minor": 5
}
